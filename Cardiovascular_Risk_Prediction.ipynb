{
  "nbformat": 4,
  "nbformat_minor": 0,
  "metadata": {
    "colab": {
      "name": "Cardiovascular Risk Prediction",
      "provenance": [],
      "include_colab_link": true
    },
    "kernelspec": {
      "name": "python3",
      "display_name": "Python 3"
    },
    "language_info": {
      "name": "python"
    }
  },
  "cells": [
    {
      "cell_type": "markdown",
      "metadata": {
        "id": "view-in-github",
        "colab_type": "text"
      },
      "source": [
        "<a href=\"https://colab.research.google.com/github/Rohitkumar1011/Cardiovascular-Risk-Prediction/blob/main/Cardiovascular_Risk_Prediction.ipynb\" target=\"_parent\"><img src=\"https://colab.research.google.com/assets/colab-badge.svg\" alt=\"Open In Colab\"/></a>"
      ]
    },
    {
      "cell_type": "markdown",
      "source": [
        "**PREDICTING THE TEN YEAR RISK OF DEVELOPING HEART DISEASE USING MACHINE LEARNING**"
      ],
      "metadata": {
        "id": "IPkuZPnomxN4"
      }
    },
    {
      "cell_type": "markdown",
      "source": [
        "1.**Introduction**\n",
        "\n",
        "Heart disease is the major cause of morbidity and mortality globally: it accounts for more deaths annually than any other cause. For example an estimated 17.9 million people died from heart diseases in 2016, representing 31% of all global deaths. Over three quarters of these deaths took place in low- and middle-income countries.\n",
        "\n",
        "Most heart diseases are highly preventable and simple lifestyle modifications(such as reducing tobacco use, eating healthily, obesity and exercising) coupled with early treatment greately improve their prognoses. It is, however, difficult to identify high risk patients because of the mulfactorial nature of several contributory risk factors such as diabetes, high blood pressure, high cholesterol etc. Due to such constraints, scientists have turned towards modern approaches like Data Mining and Machine Learning for predicting the disease.\n",
        "\n",
        "Machine learning (ML), due to its superiority in pattern detection and classification, proves to be effective in assisting decision making and risk assesment from the large quantity of data produced by the healthcare industry on heart disease."
      ],
      "metadata": {
        "id": "KQAlEEHwm7_M"
      }
    },
    {
      "cell_type": "markdown",
      "metadata": {
        "id": "aTb-9TFFqprC"
      },
      "source": [
        "Importing the Dependencies"
      ]
    },
    {
      "cell_type": "code",
      "metadata": {
        "id": "3q9U3S_whh3-"
      },
      "source": [
        "import numpy as np\n",
        "import pandas as pd\n",
        "import seaborn as sns\n",
        "import matplotlib.pyplot as plt\n",
        "%matplotlib inline\n",
        "from sklearn.model_selection import train_test_split\n",
        "from sklearn.linear_model import LogisticRegression\n",
        "from sklearn.metrics import accuracy_score\n",
        "import warnings \n",
        "warnings.filterwarnings('ignore')"
      ],
      "execution_count": 80,
      "outputs": []
    },
    {
      "cell_type": "markdown",
      "metadata": {
        "id": "egMd5zeurTMR"
      },
      "source": [
        "Data Collection and Processing"
      ]
    },
    {
      "cell_type": "code",
      "source": [
        "from google.colab import drive\n",
        "drive.mount('/content/drive')"
      ],
      "metadata": {
        "colab": {
          "base_uri": "https://localhost:8080/"
        },
        "id": "ZFHJOoVdpXlt",
        "outputId": "623e1121-ce40-4952-baba-c5f5c68d0972"
      },
      "execution_count": 81,
      "outputs": [
        {
          "output_type": "stream",
          "name": "stdout",
          "text": [
            "Drive already mounted at /content/drive; to attempt to forcibly remount, call drive.mount(\"/content/drive\", force_remount=True).\n"
          ]
        }
      ]
    },
    {
      "cell_type": "code",
      "metadata": {
        "id": "0q-3-LkQrREV"
      },
      "source": [
        "# loading the csv data to a Pandas DataFrame\n",
        "data = pd.read_csv('/content/drive/MyDrive/Datasets/Data_cardiovascular_risk.csv')"
      ],
      "execution_count": 112,
      "outputs": []
    },
    {
      "cell_type": "code",
      "metadata": {
        "colab": {
          "base_uri": "https://localhost:8080/",
          "height": 206
        },
        "id": "M8dQxSTqriWD",
        "outputId": "9f89effe-6693-4e6c-c2e7-4024127d781f"
      },
      "source": [
        "# print first 5 rows of the dataset\n",
        "data.head()"
      ],
      "execution_count": 113,
      "outputs": [
        {
          "output_type": "execute_result",
          "data": {
            "text/plain": [
              "   id  age  education sex is_smoking  cigsPerDay  BPMeds  prevalentStroke  \\\n",
              "0   0   64        2.0   F        YES         3.0     0.0                0   \n",
              "1   1   36        4.0   M         NO         0.0     0.0                0   \n",
              "2   2   46        1.0   F        YES        10.0     0.0                0   \n",
              "3   3   50        1.0   M        YES        20.0     0.0                0   \n",
              "4   4   64        1.0   F        YES        30.0     0.0                0   \n",
              "\n",
              "   prevalentHyp  diabetes  totChol  sysBP  diaBP    BMI  heartRate  glucose  \\\n",
              "0             0         0    221.0  148.0   85.0    NaN       90.0     80.0   \n",
              "1             1         0    212.0  168.0   98.0  29.77       72.0     75.0   \n",
              "2             0         0    250.0  116.0   71.0  20.35       88.0     94.0   \n",
              "3             1         0    233.0  158.0   88.0  28.26       68.0     94.0   \n",
              "4             0         0    241.0  136.5   85.0  26.42       70.0     77.0   \n",
              "\n",
              "   TenYearCHD  \n",
              "0           1  \n",
              "1           0  \n",
              "2           0  \n",
              "3           1  \n",
              "4           0  "
            ],
            "text/html": [
              "\n",
              "  <div id=\"df-6b72bb74-9a0c-47f2-bdfd-6161ce2348c0\">\n",
              "    <div class=\"colab-df-container\">\n",
              "      <div>\n",
              "<style scoped>\n",
              "    .dataframe tbody tr th:only-of-type {\n",
              "        vertical-align: middle;\n",
              "    }\n",
              "\n",
              "    .dataframe tbody tr th {\n",
              "        vertical-align: top;\n",
              "    }\n",
              "\n",
              "    .dataframe thead th {\n",
              "        text-align: right;\n",
              "    }\n",
              "</style>\n",
              "<table border=\"1\" class=\"dataframe\">\n",
              "  <thead>\n",
              "    <tr style=\"text-align: right;\">\n",
              "      <th></th>\n",
              "      <th>id</th>\n",
              "      <th>age</th>\n",
              "      <th>education</th>\n",
              "      <th>sex</th>\n",
              "      <th>is_smoking</th>\n",
              "      <th>cigsPerDay</th>\n",
              "      <th>BPMeds</th>\n",
              "      <th>prevalentStroke</th>\n",
              "      <th>prevalentHyp</th>\n",
              "      <th>diabetes</th>\n",
              "      <th>totChol</th>\n",
              "      <th>sysBP</th>\n",
              "      <th>diaBP</th>\n",
              "      <th>BMI</th>\n",
              "      <th>heartRate</th>\n",
              "      <th>glucose</th>\n",
              "      <th>TenYearCHD</th>\n",
              "    </tr>\n",
              "  </thead>\n",
              "  <tbody>\n",
              "    <tr>\n",
              "      <th>0</th>\n",
              "      <td>0</td>\n",
              "      <td>64</td>\n",
              "      <td>2.0</td>\n",
              "      <td>F</td>\n",
              "      <td>YES</td>\n",
              "      <td>3.0</td>\n",
              "      <td>0.0</td>\n",
              "      <td>0</td>\n",
              "      <td>0</td>\n",
              "      <td>0</td>\n",
              "      <td>221.0</td>\n",
              "      <td>148.0</td>\n",
              "      <td>85.0</td>\n",
              "      <td>NaN</td>\n",
              "      <td>90.0</td>\n",
              "      <td>80.0</td>\n",
              "      <td>1</td>\n",
              "    </tr>\n",
              "    <tr>\n",
              "      <th>1</th>\n",
              "      <td>1</td>\n",
              "      <td>36</td>\n",
              "      <td>4.0</td>\n",
              "      <td>M</td>\n",
              "      <td>NO</td>\n",
              "      <td>0.0</td>\n",
              "      <td>0.0</td>\n",
              "      <td>0</td>\n",
              "      <td>1</td>\n",
              "      <td>0</td>\n",
              "      <td>212.0</td>\n",
              "      <td>168.0</td>\n",
              "      <td>98.0</td>\n",
              "      <td>29.77</td>\n",
              "      <td>72.0</td>\n",
              "      <td>75.0</td>\n",
              "      <td>0</td>\n",
              "    </tr>\n",
              "    <tr>\n",
              "      <th>2</th>\n",
              "      <td>2</td>\n",
              "      <td>46</td>\n",
              "      <td>1.0</td>\n",
              "      <td>F</td>\n",
              "      <td>YES</td>\n",
              "      <td>10.0</td>\n",
              "      <td>0.0</td>\n",
              "      <td>0</td>\n",
              "      <td>0</td>\n",
              "      <td>0</td>\n",
              "      <td>250.0</td>\n",
              "      <td>116.0</td>\n",
              "      <td>71.0</td>\n",
              "      <td>20.35</td>\n",
              "      <td>88.0</td>\n",
              "      <td>94.0</td>\n",
              "      <td>0</td>\n",
              "    </tr>\n",
              "    <tr>\n",
              "      <th>3</th>\n",
              "      <td>3</td>\n",
              "      <td>50</td>\n",
              "      <td>1.0</td>\n",
              "      <td>M</td>\n",
              "      <td>YES</td>\n",
              "      <td>20.0</td>\n",
              "      <td>0.0</td>\n",
              "      <td>0</td>\n",
              "      <td>1</td>\n",
              "      <td>0</td>\n",
              "      <td>233.0</td>\n",
              "      <td>158.0</td>\n",
              "      <td>88.0</td>\n",
              "      <td>28.26</td>\n",
              "      <td>68.0</td>\n",
              "      <td>94.0</td>\n",
              "      <td>1</td>\n",
              "    </tr>\n",
              "    <tr>\n",
              "      <th>4</th>\n",
              "      <td>4</td>\n",
              "      <td>64</td>\n",
              "      <td>1.0</td>\n",
              "      <td>F</td>\n",
              "      <td>YES</td>\n",
              "      <td>30.0</td>\n",
              "      <td>0.0</td>\n",
              "      <td>0</td>\n",
              "      <td>0</td>\n",
              "      <td>0</td>\n",
              "      <td>241.0</td>\n",
              "      <td>136.5</td>\n",
              "      <td>85.0</td>\n",
              "      <td>26.42</td>\n",
              "      <td>70.0</td>\n",
              "      <td>77.0</td>\n",
              "      <td>0</td>\n",
              "    </tr>\n",
              "  </tbody>\n",
              "</table>\n",
              "</div>\n",
              "      <button class=\"colab-df-convert\" onclick=\"convertToInteractive('df-6b72bb74-9a0c-47f2-bdfd-6161ce2348c0')\"\n",
              "              title=\"Convert this dataframe to an interactive table.\"\n",
              "              style=\"display:none;\">\n",
              "        \n",
              "  <svg xmlns=\"http://www.w3.org/2000/svg\" height=\"24px\"viewBox=\"0 0 24 24\"\n",
              "       width=\"24px\">\n",
              "    <path d=\"M0 0h24v24H0V0z\" fill=\"none\"/>\n",
              "    <path d=\"M18.56 5.44l.94 2.06.94-2.06 2.06-.94-2.06-.94-.94-2.06-.94 2.06-2.06.94zm-11 1L8.5 8.5l.94-2.06 2.06-.94-2.06-.94L8.5 2.5l-.94 2.06-2.06.94zm10 10l.94 2.06.94-2.06 2.06-.94-2.06-.94-.94-2.06-.94 2.06-2.06.94z\"/><path d=\"M17.41 7.96l-1.37-1.37c-.4-.4-.92-.59-1.43-.59-.52 0-1.04.2-1.43.59L10.3 9.45l-7.72 7.72c-.78.78-.78 2.05 0 2.83L4 21.41c.39.39.9.59 1.41.59.51 0 1.02-.2 1.41-.59l7.78-7.78 2.81-2.81c.8-.78.8-2.07 0-2.86zM5.41 20L4 18.59l7.72-7.72 1.47 1.35L5.41 20z\"/>\n",
              "  </svg>\n",
              "      </button>\n",
              "      \n",
              "  <style>\n",
              "    .colab-df-container {\n",
              "      display:flex;\n",
              "      flex-wrap:wrap;\n",
              "      gap: 12px;\n",
              "    }\n",
              "\n",
              "    .colab-df-convert {\n",
              "      background-color: #E8F0FE;\n",
              "      border: none;\n",
              "      border-radius: 50%;\n",
              "      cursor: pointer;\n",
              "      display: none;\n",
              "      fill: #1967D2;\n",
              "      height: 32px;\n",
              "      padding: 0 0 0 0;\n",
              "      width: 32px;\n",
              "    }\n",
              "\n",
              "    .colab-df-convert:hover {\n",
              "      background-color: #E2EBFA;\n",
              "      box-shadow: 0px 1px 2px rgba(60, 64, 67, 0.3), 0px 1px 3px 1px rgba(60, 64, 67, 0.15);\n",
              "      fill: #174EA6;\n",
              "    }\n",
              "\n",
              "    [theme=dark] .colab-df-convert {\n",
              "      background-color: #3B4455;\n",
              "      fill: #D2E3FC;\n",
              "    }\n",
              "\n",
              "    [theme=dark] .colab-df-convert:hover {\n",
              "      background-color: #434B5C;\n",
              "      box-shadow: 0px 1px 3px 1px rgba(0, 0, 0, 0.15);\n",
              "      filter: drop-shadow(0px 1px 2px rgba(0, 0, 0, 0.3));\n",
              "      fill: #FFFFFF;\n",
              "    }\n",
              "  </style>\n",
              "\n",
              "      <script>\n",
              "        const buttonEl =\n",
              "          document.querySelector('#df-6b72bb74-9a0c-47f2-bdfd-6161ce2348c0 button.colab-df-convert');\n",
              "        buttonEl.style.display =\n",
              "          google.colab.kernel.accessAllowed ? 'block' : 'none';\n",
              "\n",
              "        async function convertToInteractive(key) {\n",
              "          const element = document.querySelector('#df-6b72bb74-9a0c-47f2-bdfd-6161ce2348c0');\n",
              "          const dataTable =\n",
              "            await google.colab.kernel.invokeFunction('convertToInteractive',\n",
              "                                                     [key], {});\n",
              "          if (!dataTable) return;\n",
              "\n",
              "          const docLinkHtml = 'Like what you see? Visit the ' +\n",
              "            '<a target=\"_blank\" href=https://colab.research.google.com/notebooks/data_table.ipynb>data table notebook</a>'\n",
              "            + ' to learn more about interactive tables.';\n",
              "          element.innerHTML = '';\n",
              "          dataTable['output_type'] = 'display_data';\n",
              "          await google.colab.output.renderOutput(dataTable, element);\n",
              "          const docLink = document.createElement('div');\n",
              "          docLink.innerHTML = docLinkHtml;\n",
              "          element.appendChild(docLink);\n",
              "        }\n",
              "      </script>\n",
              "    </div>\n",
              "  </div>\n",
              "  "
            ]
          },
          "metadata": {},
          "execution_count": 113
        }
      ]
    },
    {
      "cell_type": "code",
      "source": [
        "data.set_index('id', inplace = True)"
      ],
      "metadata": {
        "id": "LvT1b9ZsUHLO"
      },
      "execution_count": 114,
      "outputs": []
    },
    {
      "cell_type": "code",
      "source": [
        "data = pd.get_dummies(data, columns=['sex','is_smoking'])"
      ],
      "metadata": {
        "id": "cFoGCuUD95LC"
      },
      "execution_count": 115,
      "outputs": []
    },
    {
      "cell_type": "code",
      "source": [
        "# Dropping columns\n",
        "data.drop(['sex_F','is_smoking_NO'], axis =1, inplace = True)"
      ],
      "metadata": {
        "id": "zUFgJtzt-KcJ"
      },
      "execution_count": 116,
      "outputs": []
    },
    {
      "cell_type": "code",
      "source": [
        "# Rename into single gender\n",
        "data.rename(columns = {'sex_M':'male','is_smoking_YES':'is_smoking'}, inplace =True)"
      ],
      "metadata": {
        "id": "IQ-UDL9H-_Gr"
      },
      "execution_count": 117,
      "outputs": []
    },
    {
      "cell_type": "code",
      "source": [
        "data = data[['age','male','education','is_smoking','cigsPerDay','prevalentStroke','prevalentHyp','diabetes','totChol','sysBP','BPMeds','diaBP','BMI','glucose','heartRate','TenYearCHD']]\n"
      ],
      "metadata": {
        "id": "bLI59qlqSew6"
      },
      "execution_count": 118,
      "outputs": []
    },
    {
      "cell_type": "code",
      "metadata": {
        "colab": {
          "base_uri": "https://localhost:8080/",
          "height": 237
        },
        "id": "Fx_aCZDgrqdR",
        "outputId": "83799025-4bbd-4152-d33d-947e9de89adf"
      },
      "source": [
        "# print last 5 rows of the dataset\n",
        "data.tail()"
      ],
      "execution_count": 119,
      "outputs": [
        {
          "output_type": "execute_result",
          "data": {
            "text/plain": [
              "      age  male  education  is_smoking  cigsPerDay  prevalentStroke  \\\n",
              "id                                                                    \n",
              "3385   60     0        1.0           0         0.0                0   \n",
              "3386   46     0        1.0           0         0.0                0   \n",
              "3387   44     1        3.0           1         3.0                0   \n",
              "3388   60     1        1.0           0         0.0                0   \n",
              "3389   54     0        3.0           0         0.0                0   \n",
              "\n",
              "      prevalentHyp  diabetes  totChol  sysBP  BPMeds  diaBP    BMI  glucose  \\\n",
              "id                                                                            \n",
              "3385             0         0    261.0  123.5     0.0   79.0  29.28    103.0   \n",
              "3386             0         0    199.0  102.0     0.0   56.0  21.96     84.0   \n",
              "3387             1         0    352.0  164.0     0.0  119.0  28.92     72.0   \n",
              "3388             1         0    191.0  167.0     NaN  105.0  23.01     85.0   \n",
              "3389             0         0    288.0  124.0     0.0   77.0  29.88     92.0   \n",
              "\n",
              "      heartRate  TenYearCHD  \n",
              "id                           \n",
              "3385       70.0           0  \n",
              "3386       80.0           0  \n",
              "3387       73.0           1  \n",
              "3388       80.0           0  \n",
              "3389       79.0           0  "
            ],
            "text/html": [
              "\n",
              "  <div id=\"df-91f46ac5-5d78-4823-b933-a148c5411c2c\">\n",
              "    <div class=\"colab-df-container\">\n",
              "      <div>\n",
              "<style scoped>\n",
              "    .dataframe tbody tr th:only-of-type {\n",
              "        vertical-align: middle;\n",
              "    }\n",
              "\n",
              "    .dataframe tbody tr th {\n",
              "        vertical-align: top;\n",
              "    }\n",
              "\n",
              "    .dataframe thead th {\n",
              "        text-align: right;\n",
              "    }\n",
              "</style>\n",
              "<table border=\"1\" class=\"dataframe\">\n",
              "  <thead>\n",
              "    <tr style=\"text-align: right;\">\n",
              "      <th></th>\n",
              "      <th>age</th>\n",
              "      <th>male</th>\n",
              "      <th>education</th>\n",
              "      <th>is_smoking</th>\n",
              "      <th>cigsPerDay</th>\n",
              "      <th>prevalentStroke</th>\n",
              "      <th>prevalentHyp</th>\n",
              "      <th>diabetes</th>\n",
              "      <th>totChol</th>\n",
              "      <th>sysBP</th>\n",
              "      <th>BPMeds</th>\n",
              "      <th>diaBP</th>\n",
              "      <th>BMI</th>\n",
              "      <th>glucose</th>\n",
              "      <th>heartRate</th>\n",
              "      <th>TenYearCHD</th>\n",
              "    </tr>\n",
              "    <tr>\n",
              "      <th>id</th>\n",
              "      <th></th>\n",
              "      <th></th>\n",
              "      <th></th>\n",
              "      <th></th>\n",
              "      <th></th>\n",
              "      <th></th>\n",
              "      <th></th>\n",
              "      <th></th>\n",
              "      <th></th>\n",
              "      <th></th>\n",
              "      <th></th>\n",
              "      <th></th>\n",
              "      <th></th>\n",
              "      <th></th>\n",
              "      <th></th>\n",
              "      <th></th>\n",
              "    </tr>\n",
              "  </thead>\n",
              "  <tbody>\n",
              "    <tr>\n",
              "      <th>3385</th>\n",
              "      <td>60</td>\n",
              "      <td>0</td>\n",
              "      <td>1.0</td>\n",
              "      <td>0</td>\n",
              "      <td>0.0</td>\n",
              "      <td>0</td>\n",
              "      <td>0</td>\n",
              "      <td>0</td>\n",
              "      <td>261.0</td>\n",
              "      <td>123.5</td>\n",
              "      <td>0.0</td>\n",
              "      <td>79.0</td>\n",
              "      <td>29.28</td>\n",
              "      <td>103.0</td>\n",
              "      <td>70.0</td>\n",
              "      <td>0</td>\n",
              "    </tr>\n",
              "    <tr>\n",
              "      <th>3386</th>\n",
              "      <td>46</td>\n",
              "      <td>0</td>\n",
              "      <td>1.0</td>\n",
              "      <td>0</td>\n",
              "      <td>0.0</td>\n",
              "      <td>0</td>\n",
              "      <td>0</td>\n",
              "      <td>0</td>\n",
              "      <td>199.0</td>\n",
              "      <td>102.0</td>\n",
              "      <td>0.0</td>\n",
              "      <td>56.0</td>\n",
              "      <td>21.96</td>\n",
              "      <td>84.0</td>\n",
              "      <td>80.0</td>\n",
              "      <td>0</td>\n",
              "    </tr>\n",
              "    <tr>\n",
              "      <th>3387</th>\n",
              "      <td>44</td>\n",
              "      <td>1</td>\n",
              "      <td>3.0</td>\n",
              "      <td>1</td>\n",
              "      <td>3.0</td>\n",
              "      <td>0</td>\n",
              "      <td>1</td>\n",
              "      <td>0</td>\n",
              "      <td>352.0</td>\n",
              "      <td>164.0</td>\n",
              "      <td>0.0</td>\n",
              "      <td>119.0</td>\n",
              "      <td>28.92</td>\n",
              "      <td>72.0</td>\n",
              "      <td>73.0</td>\n",
              "      <td>1</td>\n",
              "    </tr>\n",
              "    <tr>\n",
              "      <th>3388</th>\n",
              "      <td>60</td>\n",
              "      <td>1</td>\n",
              "      <td>1.0</td>\n",
              "      <td>0</td>\n",
              "      <td>0.0</td>\n",
              "      <td>0</td>\n",
              "      <td>1</td>\n",
              "      <td>0</td>\n",
              "      <td>191.0</td>\n",
              "      <td>167.0</td>\n",
              "      <td>NaN</td>\n",
              "      <td>105.0</td>\n",
              "      <td>23.01</td>\n",
              "      <td>85.0</td>\n",
              "      <td>80.0</td>\n",
              "      <td>0</td>\n",
              "    </tr>\n",
              "    <tr>\n",
              "      <th>3389</th>\n",
              "      <td>54</td>\n",
              "      <td>0</td>\n",
              "      <td>3.0</td>\n",
              "      <td>0</td>\n",
              "      <td>0.0</td>\n",
              "      <td>0</td>\n",
              "      <td>0</td>\n",
              "      <td>0</td>\n",
              "      <td>288.0</td>\n",
              "      <td>124.0</td>\n",
              "      <td>0.0</td>\n",
              "      <td>77.0</td>\n",
              "      <td>29.88</td>\n",
              "      <td>92.0</td>\n",
              "      <td>79.0</td>\n",
              "      <td>0</td>\n",
              "    </tr>\n",
              "  </tbody>\n",
              "</table>\n",
              "</div>\n",
              "      <button class=\"colab-df-convert\" onclick=\"convertToInteractive('df-91f46ac5-5d78-4823-b933-a148c5411c2c')\"\n",
              "              title=\"Convert this dataframe to an interactive table.\"\n",
              "              style=\"display:none;\">\n",
              "        \n",
              "  <svg xmlns=\"http://www.w3.org/2000/svg\" height=\"24px\"viewBox=\"0 0 24 24\"\n",
              "       width=\"24px\">\n",
              "    <path d=\"M0 0h24v24H0V0z\" fill=\"none\"/>\n",
              "    <path d=\"M18.56 5.44l.94 2.06.94-2.06 2.06-.94-2.06-.94-.94-2.06-.94 2.06-2.06.94zm-11 1L8.5 8.5l.94-2.06 2.06-.94-2.06-.94L8.5 2.5l-.94 2.06-2.06.94zm10 10l.94 2.06.94-2.06 2.06-.94-2.06-.94-.94-2.06-.94 2.06-2.06.94z\"/><path d=\"M17.41 7.96l-1.37-1.37c-.4-.4-.92-.59-1.43-.59-.52 0-1.04.2-1.43.59L10.3 9.45l-7.72 7.72c-.78.78-.78 2.05 0 2.83L4 21.41c.39.39.9.59 1.41.59.51 0 1.02-.2 1.41-.59l7.78-7.78 2.81-2.81c.8-.78.8-2.07 0-2.86zM5.41 20L4 18.59l7.72-7.72 1.47 1.35L5.41 20z\"/>\n",
              "  </svg>\n",
              "      </button>\n",
              "      \n",
              "  <style>\n",
              "    .colab-df-container {\n",
              "      display:flex;\n",
              "      flex-wrap:wrap;\n",
              "      gap: 12px;\n",
              "    }\n",
              "\n",
              "    .colab-df-convert {\n",
              "      background-color: #E8F0FE;\n",
              "      border: none;\n",
              "      border-radius: 50%;\n",
              "      cursor: pointer;\n",
              "      display: none;\n",
              "      fill: #1967D2;\n",
              "      height: 32px;\n",
              "      padding: 0 0 0 0;\n",
              "      width: 32px;\n",
              "    }\n",
              "\n",
              "    .colab-df-convert:hover {\n",
              "      background-color: #E2EBFA;\n",
              "      box-shadow: 0px 1px 2px rgba(60, 64, 67, 0.3), 0px 1px 3px 1px rgba(60, 64, 67, 0.15);\n",
              "      fill: #174EA6;\n",
              "    }\n",
              "\n",
              "    [theme=dark] .colab-df-convert {\n",
              "      background-color: #3B4455;\n",
              "      fill: #D2E3FC;\n",
              "    }\n",
              "\n",
              "    [theme=dark] .colab-df-convert:hover {\n",
              "      background-color: #434B5C;\n",
              "      box-shadow: 0px 1px 3px 1px rgba(0, 0, 0, 0.15);\n",
              "      filter: drop-shadow(0px 1px 2px rgba(0, 0, 0, 0.3));\n",
              "      fill: #FFFFFF;\n",
              "    }\n",
              "  </style>\n",
              "\n",
              "      <script>\n",
              "        const buttonEl =\n",
              "          document.querySelector('#df-91f46ac5-5d78-4823-b933-a148c5411c2c button.colab-df-convert');\n",
              "        buttonEl.style.display =\n",
              "          google.colab.kernel.accessAllowed ? 'block' : 'none';\n",
              "\n",
              "        async function convertToInteractive(key) {\n",
              "          const element = document.querySelector('#df-91f46ac5-5d78-4823-b933-a148c5411c2c');\n",
              "          const dataTable =\n",
              "            await google.colab.kernel.invokeFunction('convertToInteractive',\n",
              "                                                     [key], {});\n",
              "          if (!dataTable) return;\n",
              "\n",
              "          const docLinkHtml = 'Like what you see? Visit the ' +\n",
              "            '<a target=\"_blank\" href=https://colab.research.google.com/notebooks/data_table.ipynb>data table notebook</a>'\n",
              "            + ' to learn more about interactive tables.';\n",
              "          element.innerHTML = '';\n",
              "          dataTable['output_type'] = 'display_data';\n",
              "          await google.colab.output.renderOutput(dataTable, element);\n",
              "          const docLink = document.createElement('div');\n",
              "          docLink.innerHTML = docLinkHtml;\n",
              "          element.appendChild(docLink);\n",
              "        }\n",
              "      </script>\n",
              "    </div>\n",
              "  </div>\n",
              "  "
            ]
          },
          "metadata": {},
          "execution_count": 119
        }
      ]
    },
    {
      "cell_type": "code",
      "metadata": {
        "colab": {
          "base_uri": "https://localhost:8080/"
        },
        "id": "8nX1tIzbrz0u",
        "outputId": "98959a0b-5937-483a-c924-843a368907bf"
      },
      "source": [
        "# number of rows and columns in the dataset\n",
        "data.shape"
      ],
      "execution_count": 120,
      "outputs": [
        {
          "output_type": "execute_result",
          "data": {
            "text/plain": [
              "(3390, 16)"
            ]
          },
          "metadata": {},
          "execution_count": 120
        }
      ]
    },
    {
      "cell_type": "code",
      "metadata": {
        "colab": {
          "base_uri": "https://localhost:8080/"
        },
        "id": "7_xTcw1Sr6aJ",
        "outputId": "eee23818-1401-40e6-eb4c-0500bb4aa690"
      },
      "source": [
        "# getting some info about the data\n",
        "data.info()"
      ],
      "execution_count": 121,
      "outputs": [
        {
          "output_type": "stream",
          "name": "stdout",
          "text": [
            "<class 'pandas.core.frame.DataFrame'>\n",
            "Int64Index: 3390 entries, 0 to 3389\n",
            "Data columns (total 16 columns):\n",
            " #   Column           Non-Null Count  Dtype  \n",
            "---  ------           --------------  -----  \n",
            " 0   age              3390 non-null   int64  \n",
            " 1   male             3390 non-null   uint8  \n",
            " 2   education        3303 non-null   float64\n",
            " 3   is_smoking       3390 non-null   uint8  \n",
            " 4   cigsPerDay       3368 non-null   float64\n",
            " 5   prevalentStroke  3390 non-null   int64  \n",
            " 6   prevalentHyp     3390 non-null   int64  \n",
            " 7   diabetes         3390 non-null   int64  \n",
            " 8   totChol          3352 non-null   float64\n",
            " 9   sysBP            3390 non-null   float64\n",
            " 10  BPMeds           3346 non-null   float64\n",
            " 11  diaBP            3390 non-null   float64\n",
            " 12  BMI              3376 non-null   float64\n",
            " 13  glucose          3086 non-null   float64\n",
            " 14  heartRate        3389 non-null   float64\n",
            " 15  TenYearCHD       3390 non-null   int64  \n",
            "dtypes: float64(9), int64(5), uint8(2)\n",
            "memory usage: 403.9 KB\n"
          ]
        }
      ]
    },
    {
      "cell_type": "code",
      "metadata": {
        "colab": {
          "base_uri": "https://localhost:8080/"
        },
        "id": "GjHtW31rsGlb",
        "outputId": "6a29566d-fcbb-4b65-ba47-c7d460f13b6b"
      },
      "source": [
        "# checking for missing values\n",
        "data.isnull().sum()"
      ],
      "execution_count": 122,
      "outputs": [
        {
          "output_type": "execute_result",
          "data": {
            "text/plain": [
              "age                  0\n",
              "male                 0\n",
              "education           87\n",
              "is_smoking           0\n",
              "cigsPerDay          22\n",
              "prevalentStroke      0\n",
              "prevalentHyp         0\n",
              "diabetes             0\n",
              "totChol             38\n",
              "sysBP                0\n",
              "BPMeds              44\n",
              "diaBP                0\n",
              "BMI                 14\n",
              "glucose            304\n",
              "heartRate            1\n",
              "TenYearCHD           0\n",
              "dtype: int64"
            ]
          },
          "metadata": {},
          "execution_count": 122
        }
      ]
    },
    {
      "cell_type": "markdown",
      "source": [
        "There are lots of Missing values in this dataset which needs to be treated."
      ],
      "metadata": {
        "id": "WpE1o6wxq_4w"
      }
    },
    {
      "cell_type": "code",
      "metadata": {
        "colab": {
          "base_uri": "https://localhost:8080/",
          "height": 364
        },
        "id": "OHmcP7DJsSEP",
        "outputId": "223ac61a-b079-4991-f941-5feca4fa83c8"
      },
      "source": [
        "# statistical measures about the data\n",
        "data.describe()"
      ],
      "execution_count": 123,
      "outputs": [
        {
          "output_type": "execute_result",
          "data": {
            "text/plain": [
              "               age         male    education   is_smoking   cigsPerDay  \\\n",
              "count  3390.000000  3390.000000  3303.000000  3390.000000  3368.000000   \n",
              "mean     49.542183     0.432743     1.970936     0.497640     9.069477   \n",
              "std       8.592878     0.495529     1.019081     0.500068    11.879078   \n",
              "min      32.000000     0.000000     1.000000     0.000000     0.000000   \n",
              "25%      42.000000     0.000000     1.000000     0.000000     0.000000   \n",
              "50%      49.000000     0.000000     2.000000     0.000000     0.000000   \n",
              "75%      56.000000     1.000000     3.000000     1.000000    20.000000   \n",
              "max      70.000000     1.000000     4.000000     1.000000    70.000000   \n",
              "\n",
              "       prevalentStroke  prevalentHyp     diabetes      totChol       sysBP  \\\n",
              "count      3390.000000   3390.000000  3390.000000  3352.000000  3390.00000   \n",
              "mean          0.006490      0.315339     0.025664   237.074284   132.60118   \n",
              "std           0.080309      0.464719     0.158153    45.247430    22.29203   \n",
              "min           0.000000      0.000000     0.000000   107.000000    83.50000   \n",
              "25%           0.000000      0.000000     0.000000   206.000000   117.00000   \n",
              "50%           0.000000      0.000000     0.000000   234.000000   128.50000   \n",
              "75%           0.000000      1.000000     0.000000   264.000000   144.00000   \n",
              "max           1.000000      1.000000     1.000000   696.000000   295.00000   \n",
              "\n",
              "            BPMeds        diaBP          BMI      glucose    heartRate  \\\n",
              "count  3346.000000  3390.000000  3376.000000  3086.000000  3389.000000   \n",
              "mean      0.029886    82.883038    25.794964    82.086520    75.977279   \n",
              "std       0.170299    12.023581     4.115449    24.244753    11.971868   \n",
              "min       0.000000    48.000000    15.960000    40.000000    45.000000   \n",
              "25%       0.000000    74.500000    23.020000    71.000000    68.000000   \n",
              "50%       0.000000    82.000000    25.380000    78.000000    75.000000   \n",
              "75%       0.000000    90.000000    28.040000    87.000000    83.000000   \n",
              "max       1.000000   142.500000    56.800000   394.000000   143.000000   \n",
              "\n",
              "        TenYearCHD  \n",
              "count  3390.000000  \n",
              "mean      0.150737  \n",
              "std       0.357846  \n",
              "min       0.000000  \n",
              "25%       0.000000  \n",
              "50%       0.000000  \n",
              "75%       0.000000  \n",
              "max       1.000000  "
            ],
            "text/html": [
              "\n",
              "  <div id=\"df-bf5bd2ca-af75-4fef-8f14-a5e02a5089c9\">\n",
              "    <div class=\"colab-df-container\">\n",
              "      <div>\n",
              "<style scoped>\n",
              "    .dataframe tbody tr th:only-of-type {\n",
              "        vertical-align: middle;\n",
              "    }\n",
              "\n",
              "    .dataframe tbody tr th {\n",
              "        vertical-align: top;\n",
              "    }\n",
              "\n",
              "    .dataframe thead th {\n",
              "        text-align: right;\n",
              "    }\n",
              "</style>\n",
              "<table border=\"1\" class=\"dataframe\">\n",
              "  <thead>\n",
              "    <tr style=\"text-align: right;\">\n",
              "      <th></th>\n",
              "      <th>age</th>\n",
              "      <th>male</th>\n",
              "      <th>education</th>\n",
              "      <th>is_smoking</th>\n",
              "      <th>cigsPerDay</th>\n",
              "      <th>prevalentStroke</th>\n",
              "      <th>prevalentHyp</th>\n",
              "      <th>diabetes</th>\n",
              "      <th>totChol</th>\n",
              "      <th>sysBP</th>\n",
              "      <th>BPMeds</th>\n",
              "      <th>diaBP</th>\n",
              "      <th>BMI</th>\n",
              "      <th>glucose</th>\n",
              "      <th>heartRate</th>\n",
              "      <th>TenYearCHD</th>\n",
              "    </tr>\n",
              "  </thead>\n",
              "  <tbody>\n",
              "    <tr>\n",
              "      <th>count</th>\n",
              "      <td>3390.000000</td>\n",
              "      <td>3390.000000</td>\n",
              "      <td>3303.000000</td>\n",
              "      <td>3390.000000</td>\n",
              "      <td>3368.000000</td>\n",
              "      <td>3390.000000</td>\n",
              "      <td>3390.000000</td>\n",
              "      <td>3390.000000</td>\n",
              "      <td>3352.000000</td>\n",
              "      <td>3390.00000</td>\n",
              "      <td>3346.000000</td>\n",
              "      <td>3390.000000</td>\n",
              "      <td>3376.000000</td>\n",
              "      <td>3086.000000</td>\n",
              "      <td>3389.000000</td>\n",
              "      <td>3390.000000</td>\n",
              "    </tr>\n",
              "    <tr>\n",
              "      <th>mean</th>\n",
              "      <td>49.542183</td>\n",
              "      <td>0.432743</td>\n",
              "      <td>1.970936</td>\n",
              "      <td>0.497640</td>\n",
              "      <td>9.069477</td>\n",
              "      <td>0.006490</td>\n",
              "      <td>0.315339</td>\n",
              "      <td>0.025664</td>\n",
              "      <td>237.074284</td>\n",
              "      <td>132.60118</td>\n",
              "      <td>0.029886</td>\n",
              "      <td>82.883038</td>\n",
              "      <td>25.794964</td>\n",
              "      <td>82.086520</td>\n",
              "      <td>75.977279</td>\n",
              "      <td>0.150737</td>\n",
              "    </tr>\n",
              "    <tr>\n",
              "      <th>std</th>\n",
              "      <td>8.592878</td>\n",
              "      <td>0.495529</td>\n",
              "      <td>1.019081</td>\n",
              "      <td>0.500068</td>\n",
              "      <td>11.879078</td>\n",
              "      <td>0.080309</td>\n",
              "      <td>0.464719</td>\n",
              "      <td>0.158153</td>\n",
              "      <td>45.247430</td>\n",
              "      <td>22.29203</td>\n",
              "      <td>0.170299</td>\n",
              "      <td>12.023581</td>\n",
              "      <td>4.115449</td>\n",
              "      <td>24.244753</td>\n",
              "      <td>11.971868</td>\n",
              "      <td>0.357846</td>\n",
              "    </tr>\n",
              "    <tr>\n",
              "      <th>min</th>\n",
              "      <td>32.000000</td>\n",
              "      <td>0.000000</td>\n",
              "      <td>1.000000</td>\n",
              "      <td>0.000000</td>\n",
              "      <td>0.000000</td>\n",
              "      <td>0.000000</td>\n",
              "      <td>0.000000</td>\n",
              "      <td>0.000000</td>\n",
              "      <td>107.000000</td>\n",
              "      <td>83.50000</td>\n",
              "      <td>0.000000</td>\n",
              "      <td>48.000000</td>\n",
              "      <td>15.960000</td>\n",
              "      <td>40.000000</td>\n",
              "      <td>45.000000</td>\n",
              "      <td>0.000000</td>\n",
              "    </tr>\n",
              "    <tr>\n",
              "      <th>25%</th>\n",
              "      <td>42.000000</td>\n",
              "      <td>0.000000</td>\n",
              "      <td>1.000000</td>\n",
              "      <td>0.000000</td>\n",
              "      <td>0.000000</td>\n",
              "      <td>0.000000</td>\n",
              "      <td>0.000000</td>\n",
              "      <td>0.000000</td>\n",
              "      <td>206.000000</td>\n",
              "      <td>117.00000</td>\n",
              "      <td>0.000000</td>\n",
              "      <td>74.500000</td>\n",
              "      <td>23.020000</td>\n",
              "      <td>71.000000</td>\n",
              "      <td>68.000000</td>\n",
              "      <td>0.000000</td>\n",
              "    </tr>\n",
              "    <tr>\n",
              "      <th>50%</th>\n",
              "      <td>49.000000</td>\n",
              "      <td>0.000000</td>\n",
              "      <td>2.000000</td>\n",
              "      <td>0.000000</td>\n",
              "      <td>0.000000</td>\n",
              "      <td>0.000000</td>\n",
              "      <td>0.000000</td>\n",
              "      <td>0.000000</td>\n",
              "      <td>234.000000</td>\n",
              "      <td>128.50000</td>\n",
              "      <td>0.000000</td>\n",
              "      <td>82.000000</td>\n",
              "      <td>25.380000</td>\n",
              "      <td>78.000000</td>\n",
              "      <td>75.000000</td>\n",
              "      <td>0.000000</td>\n",
              "    </tr>\n",
              "    <tr>\n",
              "      <th>75%</th>\n",
              "      <td>56.000000</td>\n",
              "      <td>1.000000</td>\n",
              "      <td>3.000000</td>\n",
              "      <td>1.000000</td>\n",
              "      <td>20.000000</td>\n",
              "      <td>0.000000</td>\n",
              "      <td>1.000000</td>\n",
              "      <td>0.000000</td>\n",
              "      <td>264.000000</td>\n",
              "      <td>144.00000</td>\n",
              "      <td>0.000000</td>\n",
              "      <td>90.000000</td>\n",
              "      <td>28.040000</td>\n",
              "      <td>87.000000</td>\n",
              "      <td>83.000000</td>\n",
              "      <td>0.000000</td>\n",
              "    </tr>\n",
              "    <tr>\n",
              "      <th>max</th>\n",
              "      <td>70.000000</td>\n",
              "      <td>1.000000</td>\n",
              "      <td>4.000000</td>\n",
              "      <td>1.000000</td>\n",
              "      <td>70.000000</td>\n",
              "      <td>1.000000</td>\n",
              "      <td>1.000000</td>\n",
              "      <td>1.000000</td>\n",
              "      <td>696.000000</td>\n",
              "      <td>295.00000</td>\n",
              "      <td>1.000000</td>\n",
              "      <td>142.500000</td>\n",
              "      <td>56.800000</td>\n",
              "      <td>394.000000</td>\n",
              "      <td>143.000000</td>\n",
              "      <td>1.000000</td>\n",
              "    </tr>\n",
              "  </tbody>\n",
              "</table>\n",
              "</div>\n",
              "      <button class=\"colab-df-convert\" onclick=\"convertToInteractive('df-bf5bd2ca-af75-4fef-8f14-a5e02a5089c9')\"\n",
              "              title=\"Convert this dataframe to an interactive table.\"\n",
              "              style=\"display:none;\">\n",
              "        \n",
              "  <svg xmlns=\"http://www.w3.org/2000/svg\" height=\"24px\"viewBox=\"0 0 24 24\"\n",
              "       width=\"24px\">\n",
              "    <path d=\"M0 0h24v24H0V0z\" fill=\"none\"/>\n",
              "    <path d=\"M18.56 5.44l.94 2.06.94-2.06 2.06-.94-2.06-.94-.94-2.06-.94 2.06-2.06.94zm-11 1L8.5 8.5l.94-2.06 2.06-.94-2.06-.94L8.5 2.5l-.94 2.06-2.06.94zm10 10l.94 2.06.94-2.06 2.06-.94-2.06-.94-.94-2.06-.94 2.06-2.06.94z\"/><path d=\"M17.41 7.96l-1.37-1.37c-.4-.4-.92-.59-1.43-.59-.52 0-1.04.2-1.43.59L10.3 9.45l-7.72 7.72c-.78.78-.78 2.05 0 2.83L4 21.41c.39.39.9.59 1.41.59.51 0 1.02-.2 1.41-.59l7.78-7.78 2.81-2.81c.8-.78.8-2.07 0-2.86zM5.41 20L4 18.59l7.72-7.72 1.47 1.35L5.41 20z\"/>\n",
              "  </svg>\n",
              "      </button>\n",
              "      \n",
              "  <style>\n",
              "    .colab-df-container {\n",
              "      display:flex;\n",
              "      flex-wrap:wrap;\n",
              "      gap: 12px;\n",
              "    }\n",
              "\n",
              "    .colab-df-convert {\n",
              "      background-color: #E8F0FE;\n",
              "      border: none;\n",
              "      border-radius: 50%;\n",
              "      cursor: pointer;\n",
              "      display: none;\n",
              "      fill: #1967D2;\n",
              "      height: 32px;\n",
              "      padding: 0 0 0 0;\n",
              "      width: 32px;\n",
              "    }\n",
              "\n",
              "    .colab-df-convert:hover {\n",
              "      background-color: #E2EBFA;\n",
              "      box-shadow: 0px 1px 2px rgba(60, 64, 67, 0.3), 0px 1px 3px 1px rgba(60, 64, 67, 0.15);\n",
              "      fill: #174EA6;\n",
              "    }\n",
              "\n",
              "    [theme=dark] .colab-df-convert {\n",
              "      background-color: #3B4455;\n",
              "      fill: #D2E3FC;\n",
              "    }\n",
              "\n",
              "    [theme=dark] .colab-df-convert:hover {\n",
              "      background-color: #434B5C;\n",
              "      box-shadow: 0px 1px 3px 1px rgba(0, 0, 0, 0.15);\n",
              "      filter: drop-shadow(0px 1px 2px rgba(0, 0, 0, 0.3));\n",
              "      fill: #FFFFFF;\n",
              "    }\n",
              "  </style>\n",
              "\n",
              "      <script>\n",
              "        const buttonEl =\n",
              "          document.querySelector('#df-bf5bd2ca-af75-4fef-8f14-a5e02a5089c9 button.colab-df-convert');\n",
              "        buttonEl.style.display =\n",
              "          google.colab.kernel.accessAllowed ? 'block' : 'none';\n",
              "\n",
              "        async function convertToInteractive(key) {\n",
              "          const element = document.querySelector('#df-bf5bd2ca-af75-4fef-8f14-a5e02a5089c9');\n",
              "          const dataTable =\n",
              "            await google.colab.kernel.invokeFunction('convertToInteractive',\n",
              "                                                     [key], {});\n",
              "          if (!dataTable) return;\n",
              "\n",
              "          const docLinkHtml = 'Like what you see? Visit the ' +\n",
              "            '<a target=\"_blank\" href=https://colab.research.google.com/notebooks/data_table.ipynb>data table notebook</a>'\n",
              "            + ' to learn more about interactive tables.';\n",
              "          element.innerHTML = '';\n",
              "          dataTable['output_type'] = 'display_data';\n",
              "          await google.colab.output.renderOutput(dataTable, element);\n",
              "          const docLink = document.createElement('div');\n",
              "          docLink.innerHTML = docLinkHtml;\n",
              "          element.appendChild(docLink);\n",
              "        }\n",
              "      </script>\n",
              "    </div>\n",
              "  </div>\n",
              "  "
            ]
          },
          "metadata": {},
          "execution_count": 123
        }
      ]
    },
    {
      "cell_type": "code",
      "source": [
        "# Total Percentage of missing data:\n",
        "\n",
        "missing_data = data.isnull().sum()\n",
        "total_percentage = (missing_data.sum()/data.shape[0]) * 100\n",
        "print(f'The total percentage of missing data is {round(total_percentage,2)}%')"
      ],
      "metadata": {
        "colab": {
          "base_uri": "https://localhost:8080/"
        },
        "id": "2b87q27trPRJ",
        "outputId": "f61a803c-4aef-4db4-801d-4a78afd7eb7c"
      },
      "execution_count": 124,
      "outputs": [
        {
          "output_type": "stream",
          "name": "stdout",
          "text": [
            "The total percentage of missing data is 15.04%\n"
          ]
        }
      ]
    },
    {
      "cell_type": "code",
      "source": [
        "# percentage of missing data per category\n",
        "total = data.isnull().sum().sort_values(ascending=False)\n",
        "percent_total = (data.isnull().sum()/data.isnull().count()).sort_values(ascending=False)*100\n",
        "missing = pd.concat([total, percent_total], axis=1, keys=[\"Total\", \"Percentage\"])\n",
        "missing_data = missing[missing['Total']>0]\n",
        "missing_data"
      ],
      "metadata": {
        "colab": {
          "base_uri": "https://localhost:8080/",
          "height": 269
        },
        "id": "3GnDh5cf0EHQ",
        "outputId": "36fae066-88bd-41a1-ff9f-b3ee94722f0b"
      },
      "execution_count": 125,
      "outputs": [
        {
          "output_type": "execute_result",
          "data": {
            "text/plain": [
              "            Total  Percentage\n",
              "glucose       304    8.967552\n",
              "education      87    2.566372\n",
              "BPMeds         44    1.297935\n",
              "totChol        38    1.120944\n",
              "cigsPerDay     22    0.648968\n",
              "BMI            14    0.412979\n",
              "heartRate       1    0.029499"
            ],
            "text/html": [
              "\n",
              "  <div id=\"df-5ce1494d-ebf5-4cc2-8060-8f1efc1613cd\">\n",
              "    <div class=\"colab-df-container\">\n",
              "      <div>\n",
              "<style scoped>\n",
              "    .dataframe tbody tr th:only-of-type {\n",
              "        vertical-align: middle;\n",
              "    }\n",
              "\n",
              "    .dataframe tbody tr th {\n",
              "        vertical-align: top;\n",
              "    }\n",
              "\n",
              "    .dataframe thead th {\n",
              "        text-align: right;\n",
              "    }\n",
              "</style>\n",
              "<table border=\"1\" class=\"dataframe\">\n",
              "  <thead>\n",
              "    <tr style=\"text-align: right;\">\n",
              "      <th></th>\n",
              "      <th>Total</th>\n",
              "      <th>Percentage</th>\n",
              "    </tr>\n",
              "  </thead>\n",
              "  <tbody>\n",
              "    <tr>\n",
              "      <th>glucose</th>\n",
              "      <td>304</td>\n",
              "      <td>8.967552</td>\n",
              "    </tr>\n",
              "    <tr>\n",
              "      <th>education</th>\n",
              "      <td>87</td>\n",
              "      <td>2.566372</td>\n",
              "    </tr>\n",
              "    <tr>\n",
              "      <th>BPMeds</th>\n",
              "      <td>44</td>\n",
              "      <td>1.297935</td>\n",
              "    </tr>\n",
              "    <tr>\n",
              "      <th>totChol</th>\n",
              "      <td>38</td>\n",
              "      <td>1.120944</td>\n",
              "    </tr>\n",
              "    <tr>\n",
              "      <th>cigsPerDay</th>\n",
              "      <td>22</td>\n",
              "      <td>0.648968</td>\n",
              "    </tr>\n",
              "    <tr>\n",
              "      <th>BMI</th>\n",
              "      <td>14</td>\n",
              "      <td>0.412979</td>\n",
              "    </tr>\n",
              "    <tr>\n",
              "      <th>heartRate</th>\n",
              "      <td>1</td>\n",
              "      <td>0.029499</td>\n",
              "    </tr>\n",
              "  </tbody>\n",
              "</table>\n",
              "</div>\n",
              "      <button class=\"colab-df-convert\" onclick=\"convertToInteractive('df-5ce1494d-ebf5-4cc2-8060-8f1efc1613cd')\"\n",
              "              title=\"Convert this dataframe to an interactive table.\"\n",
              "              style=\"display:none;\">\n",
              "        \n",
              "  <svg xmlns=\"http://www.w3.org/2000/svg\" height=\"24px\"viewBox=\"0 0 24 24\"\n",
              "       width=\"24px\">\n",
              "    <path d=\"M0 0h24v24H0V0z\" fill=\"none\"/>\n",
              "    <path d=\"M18.56 5.44l.94 2.06.94-2.06 2.06-.94-2.06-.94-.94-2.06-.94 2.06-2.06.94zm-11 1L8.5 8.5l.94-2.06 2.06-.94-2.06-.94L8.5 2.5l-.94 2.06-2.06.94zm10 10l.94 2.06.94-2.06 2.06-.94-2.06-.94-.94-2.06-.94 2.06-2.06.94z\"/><path d=\"M17.41 7.96l-1.37-1.37c-.4-.4-.92-.59-1.43-.59-.52 0-1.04.2-1.43.59L10.3 9.45l-7.72 7.72c-.78.78-.78 2.05 0 2.83L4 21.41c.39.39.9.59 1.41.59.51 0 1.02-.2 1.41-.59l7.78-7.78 2.81-2.81c.8-.78.8-2.07 0-2.86zM5.41 20L4 18.59l7.72-7.72 1.47 1.35L5.41 20z\"/>\n",
              "  </svg>\n",
              "      </button>\n",
              "      \n",
              "  <style>\n",
              "    .colab-df-container {\n",
              "      display:flex;\n",
              "      flex-wrap:wrap;\n",
              "      gap: 12px;\n",
              "    }\n",
              "\n",
              "    .colab-df-convert {\n",
              "      background-color: #E8F0FE;\n",
              "      border: none;\n",
              "      border-radius: 50%;\n",
              "      cursor: pointer;\n",
              "      display: none;\n",
              "      fill: #1967D2;\n",
              "      height: 32px;\n",
              "      padding: 0 0 0 0;\n",
              "      width: 32px;\n",
              "    }\n",
              "\n",
              "    .colab-df-convert:hover {\n",
              "      background-color: #E2EBFA;\n",
              "      box-shadow: 0px 1px 2px rgba(60, 64, 67, 0.3), 0px 1px 3px 1px rgba(60, 64, 67, 0.15);\n",
              "      fill: #174EA6;\n",
              "    }\n",
              "\n",
              "    [theme=dark] .colab-df-convert {\n",
              "      background-color: #3B4455;\n",
              "      fill: #D2E3FC;\n",
              "    }\n",
              "\n",
              "    [theme=dark] .colab-df-convert:hover {\n",
              "      background-color: #434B5C;\n",
              "      box-shadow: 0px 1px 3px 1px rgba(0, 0, 0, 0.15);\n",
              "      filter: drop-shadow(0px 1px 2px rgba(0, 0, 0, 0.3));\n",
              "      fill: #FFFFFF;\n",
              "    }\n",
              "  </style>\n",
              "\n",
              "      <script>\n",
              "        const buttonEl =\n",
              "          document.querySelector('#df-5ce1494d-ebf5-4cc2-8060-8f1efc1613cd button.colab-df-convert');\n",
              "        buttonEl.style.display =\n",
              "          google.colab.kernel.accessAllowed ? 'block' : 'none';\n",
              "\n",
              "        async function convertToInteractive(key) {\n",
              "          const element = document.querySelector('#df-5ce1494d-ebf5-4cc2-8060-8f1efc1613cd');\n",
              "          const dataTable =\n",
              "            await google.colab.kernel.invokeFunction('convertToInteractive',\n",
              "                                                     [key], {});\n",
              "          if (!dataTable) return;\n",
              "\n",
              "          const docLinkHtml = 'Like what you see? Visit the ' +\n",
              "            '<a target=\"_blank\" href=https://colab.research.google.com/notebooks/data_table.ipynb>data table notebook</a>'\n",
              "            + ' to learn more about interactive tables.';\n",
              "          element.innerHTML = '';\n",
              "          dataTable['output_type'] = 'display_data';\n",
              "          await google.colab.output.renderOutput(dataTable, element);\n",
              "          const docLink = document.createElement('div');\n",
              "          docLink.innerHTML = docLinkHtml;\n",
              "          element.appendChild(docLink);\n",
              "        }\n",
              "      </script>\n",
              "    </div>\n",
              "  </div>\n",
              "  "
            ]
          },
          "metadata": {},
          "execution_count": 125
        }
      ]
    },
    {
      "cell_type": "code",
      "source": [
        "plt.figure(figsize=(9,6))\n",
        "sns.set(style=\"whitegrid\")\n",
        "sns.barplot(x=missing_data.index, y=missing_data['Percentage'], data = missing_data)\n",
        "plt.title('Percentage of missing data by feature')\n",
        "plt.xlabel('Features', fontsize=14)\n",
        "plt.ylabel('Percentage', fontsize=14)\n",
        "plt.show()"
      ],
      "metadata": {
        "colab": {
          "base_uri": "https://localhost:8080/",
          "height": 411
        },
        "id": "QJOYIUQB0JVo",
        "outputId": "90355657-d624-4677-f608-a9f1fabce8fb"
      },
      "execution_count": 99,
      "outputs": [
        {
          "output_type": "display_data",
          "data": {
            "text/plain": [
              "<Figure size 648x432 with 1 Axes>"
            ],
            "image/png": "[encoded data removed]"
          },
          "metadata": {
            "needs_background": "light"
          }
        }
      ]
    },
    {
      "cell_type": "markdown",
      "source": [
        "At 8.97%, the blood glucose entry has the highest percentage of missing data. The otherfeatures have very few missing entries.\n",
        "\n",
        "Since the missing entries account for only 15% of the total data we can drop these entries without losing alot of data."
      ],
      "metadata": {
        "id": "CTb9xZ1r07nm"
      }
    },
    {
      "cell_type": "code",
      "source": [
        "# drop missing entries\n",
        "data.dropna(axis=0, inplace=True)"
      ],
      "metadata": {
        "id": "EUBTyTS00Sg6"
      },
      "execution_count": 103,
      "outputs": []
    },
    {
      "cell_type": "code",
      "source": [
        "data.shape"
      ],
      "metadata": {
        "colab": {
          "base_uri": "https://localhost:8080/"
        },
        "id": "_OMxQmsD0Xwa",
        "outputId": "203b6619-ea3e-4804-f012-411ab0dc1d22"
      },
      "execution_count": 104,
      "outputs": [
        {
          "output_type": "execute_result",
          "data": {
            "text/plain": [
              "(2969, 15)"
            ]
          },
          "metadata": {},
          "execution_count": 104
        }
      ]
    },
    {
      "cell_type": "code",
      "source": [
        "# plot histogram to see the distribution of the data\n",
        "fig = plt.figure(figsize = (15,20))\n",
        "ax = fig.gca()\n",
        "data.hist(ax = ax)\n",
        "plt.show()"
      ],
      "metadata": {
        "colab": {
          "base_uri": "https://localhost:8080/",
          "height": 1000
        },
        "id": "Jqjs3Aof1lEX",
        "outputId": "07744003-13ee-4146-eed1-fff4d51fe62c"
      },
      "execution_count": 105,
      "outputs": [
        {
          "output_type": "display_data",
          "data": {
            "text/plain": [
              "<Figure size 1080x1440 with 16 Axes>"
            ],
            "image/png": "[encoded data removed]"
          },
          "metadata": {}
        }
      ]
    },
    {
      "cell_type": "code",
      "source": [
        "sns.countplot(x='TenYearCHD',data=data)\n",
        "plt.show()\n",
        "cases = data.TenYearCHD.value_counts()\n",
        "print(f\"There are {cases[0]} patients without heart disease and {cases[1]} patients with the disease\")"
      ],
      "metadata": {
        "colab": {
          "base_uri": "https://localhost:8080/",
          "height": 302
        },
        "id": "fnTQuoaP1lA4",
        "outputId": "81692be2-8ade-46e5-8f34-1e936d3b5f3a"
      },
      "execution_count": 106,
      "outputs": [
        {
          "output_type": "display_data",
          "data": {
            "text/plain": [
              "<Figure size 432x288 with 1 Axes>"
            ],
            "image/png": "[encoded data removed]"
          },
          "metadata": {}
        },
        {
          "output_type": "stream",
          "name": "stdout",
          "text": [
            "There are 2518 patients without heart disease and 451 patients with the disease\n"
          ]
        }
      ]
    },
    {
      "cell_type": "markdown",
      "source": [
        "The data is not properly balanced as the number of people without the disease greately exceeds the number of people with the disease. The ratio is about 1:5.57"
      ],
      "metadata": {
        "id": "TbyjHRE-1xti"
      }
    },
    {
      "cell_type": "code",
      "source": [
        "from operator import add"
      ],
      "metadata": {
        "id": "6DfVqKZgCqoq"
      },
      "execution_count": 107,
      "outputs": []
    },
    {
      "cell_type": "code",
      "source": [
        "def stacked_barchart(data, title = None, ylabel = None, xlabel = None):\n",
        "    default_colors = ['#008080', '#5f3c41', '#219AD8']\n",
        "    # From raw value to percentage\n",
        "    totals = data.sum(axis=1)\n",
        "    bars = ((data.T / totals) * 100).T\n",
        "    r = list(range(data.index.size))\n",
        "\n",
        "    # Plot\n",
        "    barWidth = 0.95\n",
        "    names = data.index.tolist()\n",
        "    bottom = [0] * bars.shape[0]\n",
        "\n",
        "    # Create bars\n",
        "    color_index = 0\n",
        "    plots = []\n",
        "    for bar in bars.columns:\n",
        "        plots.append(plt.bar(r, bars[bar], bottom=bottom, color=default_colors[color_index], edgecolor='white', width=barWidth))\n",
        "        bottom = list(map(add, bottom, bars[bar]))\n",
        "        color_index = 0 if color_index >= len(default_colors) else color_index + 1\n",
        "\n",
        "    # Custom x axis\n",
        "    plt.title(title)\n",
        "    plt.xticks(r, names)\n",
        "    plt.xlabel(data.index.name if xlabel is None else xlabel)\n",
        "    plt.ylabel(data.columns.name if ylabel is None else ylabel)\n",
        "    ax = plt.gca()\n",
        "        \n",
        "    y_labels = ax.get_yticks()\n",
        "    ax.set_yticklabels([str(y) + '%' for y in y_labels])\n",
        "\n",
        "    flat_list = [item for sublist in data.T.values for item in sublist]\n",
        "    for i, d in zip(ax.patches, flat_list):\n",
        "        data_label = str(d) + \" (\" + str(round(i.get_height(), 2)) + \"%)\"\n",
        "        ax.text(i.get_x() + 0.45, i.get_y() + 5, data_label, horizontalalignment='center', verticalalignment='center', fontdict = dict(color = 'white', size = 20))\n",
        "\n",
        "    for item in ([ax.title]):\n",
        "        item.set_fontsize(27)\n",
        "        \n",
        "    for item in ([ax.xaxis.label, ax.yaxis.label] + ax.get_xticklabels() + ax.get_yticklabels()):\n",
        "        item.set_fontsize(24)\n",
        "    \n",
        "    legend = ax.legend(plots, bars.columns.tolist(), fancybox=True)\n",
        "    plt.setp(legend.get_texts(), fontsize='20')\n"
      ],
      "metadata": {
        "id": "5KWhEUvV1uaa"
      },
      "execution_count": 108,
      "outputs": []
    },
    {
      "cell_type": "code",
      "source": [
        "fig = plt.gcf()\n",
        "fig.set_size_inches(25, 35)\n",
        "grid_rows = 3\n",
        "grid_cols = 2\n",
        "\n",
        "#draw sex vs disease outcome\n",
        "plt.subplot(grid_rows, grid_cols, 1)\n",
        "temp = data[['male','TenYearCHD']].groupby(['male','TenYearCHD']).size().unstack('TenYearCHD')\n",
        "temp.rename(index={0:'Female', 1:'Male'}, columns={0:'No Disease', 1:'Has Disease'}, inplace = True)\n",
        "stacked_barchart(temp, title = 'CHD vs Sex', ylabel = 'Population')\n",
        "\n",
        "#draw smoking satus vs disease outcome\n",
        "plt.subplot(grid_rows, grid_cols, 2)\n",
        "temp = data[['is_smoking','TenYearCHD']].groupby(['is_smoking','TenYearCHD']).size().unstack('TenYearCHD')\n",
        "temp.rename(index={0:'Not a Smoker', 1:'Smoker'}, columns={0:'No Disease', 1:'Has Disease'}, inplace = True)\n",
        "stacked_barchart(temp, title = 'CHD vs Smoking', ylabel = 'Population')\n",
        "\n",
        "#draw diabetes vs disease outcome\n",
        "plt.subplot(grid_rows, grid_cols, 3)\n",
        "temp = data[['diabetes','TenYearCHD']].groupby(['diabetes','TenYearCHD']).size().unstack('TenYearCHD')\n",
        "temp.rename(index={0:'Not Diabetic', 1:'Diabetic'}, columns={0:'No Disease', 1:'Has Disease'}, inplace = True)\n",
        "stacked_barchart(temp, title = 'CHD vs Diabetes', ylabel = 'Population')\n",
        "\n",
        "#draw BP meds vs disease outcome\n",
        "plt.subplot(grid_rows, grid_cols, 4)\n",
        "temp = data[['BPMeds','TenYearCHD']].groupby(['BPMeds','TenYearCHD']).size().unstack('TenYearCHD')\n",
        "temp.rename(index={0:'Not on medication', 1:'On Medication'}, columns={0:'No Disease', 1:'Has Disease'}, inplace = True)\n",
        "stacked_barchart(temp, title = 'CHD vs BP meds', ylabel = 'Population')\n",
        "\n",
        "#draw Hypertension vs disease outcome\n",
        "plt.subplot(grid_rows, grid_cols, 5)\n",
        "temp = data[['prevalentHyp','TenYearCHD']].groupby(['prevalentHyp','TenYearCHD']).size().unstack('TenYearCHD')\n",
        "temp.rename(index={0:'Not Hypertensive', 1:'Hypertensive'}, columns={0:'No Disease', 1:'Has Disease'}, inplace = True)\n",
        "stacked_barchart(temp, title = 'CHD vs Hypertension', ylabel = 'Population')"
      ],
      "metadata": {
        "colab": {
          "base_uri": "https://localhost:8080/",
          "height": 1000
        },
        "id": "oCbPt11b3_wZ",
        "outputId": "71c6e3b5-8fda-4a8d-b495-53715e7ac029"
      },
      "execution_count": 109,
      "outputs": [
        {
          "output_type": "error",
          "ename": "KeyError",
          "evalue": "ignored",
          "traceback": [
            "\u001b[0;31m---------------------------------------------------------------------------\u001b[0m",
            "\u001b[0;31mKeyError\u001b[0m                                  Traceback (most recent call last)",
            "\u001b[0;32m<ipython-input-109-33d7cbaec997>\u001b[0m in \u001b[0;36m<module>\u001b[0;34m()\u001b[0m\n\u001b[1;32m     24\u001b[0m \u001b[0;31m#draw BP meds vs disease outcome\u001b[0m\u001b[0;34m\u001b[0m\u001b[0;34m\u001b[0m\u001b[0;34m\u001b[0m\u001b[0m\n\u001b[1;32m     25\u001b[0m \u001b[0mplt\u001b[0m\u001b[0;34m.\u001b[0m\u001b[0msubplot\u001b[0m\u001b[0;34m(\u001b[0m\u001b[0mgrid_rows\u001b[0m\u001b[0;34m,\u001b[0m \u001b[0mgrid_cols\u001b[0m\u001b[0;34m,\u001b[0m \u001b[0;36m4\u001b[0m\u001b[0;34m)\u001b[0m\u001b[0;34m\u001b[0m\u001b[0;34m\u001b[0m\u001b[0m\n\u001b[0;32m---> 26\u001b[0;31m \u001b[0mtemp\u001b[0m \u001b[0;34m=\u001b[0m \u001b[0mdata\u001b[0m\u001b[0;34m[\u001b[0m\u001b[0;34m[\u001b[0m\u001b[0;34m'BPMeds'\u001b[0m\u001b[0;34m,\u001b[0m\u001b[0;34m'TenYearCHD'\u001b[0m\u001b[0;34m]\u001b[0m\u001b[0;34m]\u001b[0m\u001b[0;34m.\u001b[0m\u001b[0mgroupby\u001b[0m\u001b[0;34m(\u001b[0m\u001b[0;34m[\u001b[0m\u001b[0;34m'BPMeds'\u001b[0m\u001b[0;34m,\u001b[0m\u001b[0;34m'TenYearCHD'\u001b[0m\u001b[0;34m]\u001b[0m\u001b[0;34m)\u001b[0m\u001b[0;34m.\u001b[0m\u001b[0msize\u001b[0m\u001b[0;34m(\u001b[0m\u001b[0;34m)\u001b[0m\u001b[0;34m.\u001b[0m\u001b[0munstack\u001b[0m\u001b[0;34m(\u001b[0m\u001b[0;34m'TenYearCHD'\u001b[0m\u001b[0;34m)\u001b[0m\u001b[0;34m\u001b[0m\u001b[0;34m\u001b[0m\u001b[0m\n\u001b[0m\u001b[1;32m     27\u001b[0m \u001b[0mtemp\u001b[0m\u001b[0;34m.\u001b[0m\u001b[0mrename\u001b[0m\u001b[0;34m(\u001b[0m\u001b[0mindex\u001b[0m\u001b[0;34m=\u001b[0m\u001b[0;34m{\u001b[0m\u001b[0;36m0\u001b[0m\u001b[0;34m:\u001b[0m\u001b[0;34m'Not on medication'\u001b[0m\u001b[0;34m,\u001b[0m \u001b[0;36m1\u001b[0m\u001b[0;34m:\u001b[0m\u001b[0;34m'On Medication'\u001b[0m\u001b[0;34m}\u001b[0m\u001b[0;34m,\u001b[0m \u001b[0mcolumns\u001b[0m\u001b[0;34m=\u001b[0m\u001b[0;34m{\u001b[0m\u001b[0;36m0\u001b[0m\u001b[0;34m:\u001b[0m\u001b[0;34m'No Disease'\u001b[0m\u001b[0;34m,\u001b[0m \u001b[0;36m1\u001b[0m\u001b[0;34m:\u001b[0m\u001b[0;34m'Has Disease'\u001b[0m\u001b[0;34m}\u001b[0m\u001b[0;34m,\u001b[0m \u001b[0minplace\u001b[0m \u001b[0;34m=\u001b[0m \u001b[0;32mTrue\u001b[0m\u001b[0;34m)\u001b[0m\u001b[0;34m\u001b[0m\u001b[0;34m\u001b[0m\u001b[0m\n\u001b[1;32m     28\u001b[0m \u001b[0mstacked_barchart\u001b[0m\u001b[0;34m(\u001b[0m\u001b[0mtemp\u001b[0m\u001b[0;34m,\u001b[0m \u001b[0mtitle\u001b[0m \u001b[0;34m=\u001b[0m \u001b[0;34m'CHD vs BP meds'\u001b[0m\u001b[0;34m,\u001b[0m \u001b[0mylabel\u001b[0m \u001b[0;34m=\u001b[0m \u001b[0;34m'Population'\u001b[0m\u001b[0;34m)\u001b[0m\u001b[0;34m\u001b[0m\u001b[0;34m\u001b[0m\u001b[0m\n",
            "\u001b[0;32m/usr/local/lib/python3.7/dist-packages/pandas/core/frame.py\u001b[0m in \u001b[0;36m__getitem__\u001b[0;34m(self, key)\u001b[0m\n\u001b[1;32m   3462\u001b[0m             \u001b[0;32mif\u001b[0m \u001b[0mis_iterator\u001b[0m\u001b[0;34m(\u001b[0m\u001b[0mkey\u001b[0m\u001b[0;34m)\u001b[0m\u001b[0;34m:\u001b[0m\u001b[0;34m\u001b[0m\u001b[0;34m\u001b[0m\u001b[0m\n\u001b[1;32m   3463\u001b[0m                 \u001b[0mkey\u001b[0m \u001b[0;34m=\u001b[0m \u001b[0mlist\u001b[0m\u001b[0;34m(\u001b[0m\u001b[0mkey\u001b[0m\u001b[0;34m)\u001b[0m\u001b[0;34m\u001b[0m\u001b[0;34m\u001b[0m\u001b[0m\n\u001b[0;32m-> 3464\u001b[0;31m             \u001b[0mindexer\u001b[0m \u001b[0;34m=\u001b[0m \u001b[0mself\u001b[0m\u001b[0;34m.\u001b[0m\u001b[0mloc\u001b[0m\u001b[0;34m.\u001b[0m\u001b[0m_get_listlike_indexer\u001b[0m\u001b[0;34m(\u001b[0m\u001b[0mkey\u001b[0m\u001b[0;34m,\u001b[0m \u001b[0maxis\u001b[0m\u001b[0;34m=\u001b[0m\u001b[0;36m1\u001b[0m\u001b[0;34m)\u001b[0m\u001b[0;34m[\u001b[0m\u001b[0;36m1\u001b[0m\u001b[0;34m]\u001b[0m\u001b[0;34m\u001b[0m\u001b[0;34m\u001b[0m\u001b[0m\n\u001b[0m\u001b[1;32m   3465\u001b[0m \u001b[0;34m\u001b[0m\u001b[0m\n\u001b[1;32m   3466\u001b[0m         \u001b[0;31m# take() does not accept boolean indexers\u001b[0m\u001b[0;34m\u001b[0m\u001b[0;34m\u001b[0m\u001b[0;34m\u001b[0m\u001b[0m\n",
            "\u001b[0;32m/usr/local/lib/python3.7/dist-packages/pandas/core/indexing.py\u001b[0m in \u001b[0;36m_get_listlike_indexer\u001b[0;34m(self, key, axis)\u001b[0m\n\u001b[1;32m   1312\u001b[0m             \u001b[0mkeyarr\u001b[0m\u001b[0;34m,\u001b[0m \u001b[0mindexer\u001b[0m\u001b[0;34m,\u001b[0m \u001b[0mnew_indexer\u001b[0m \u001b[0;34m=\u001b[0m \u001b[0max\u001b[0m\u001b[0;34m.\u001b[0m\u001b[0m_reindex_non_unique\u001b[0m\u001b[0;34m(\u001b[0m\u001b[0mkeyarr\u001b[0m\u001b[0;34m)\u001b[0m\u001b[0;34m\u001b[0m\u001b[0;34m\u001b[0m\u001b[0m\n\u001b[1;32m   1313\u001b[0m \u001b[0;34m\u001b[0m\u001b[0m\n\u001b[0;32m-> 1314\u001b[0;31m         \u001b[0mself\u001b[0m\u001b[0;34m.\u001b[0m\u001b[0m_validate_read_indexer\u001b[0m\u001b[0;34m(\u001b[0m\u001b[0mkeyarr\u001b[0m\u001b[0;34m,\u001b[0m \u001b[0mindexer\u001b[0m\u001b[0;34m,\u001b[0m \u001b[0maxis\u001b[0m\u001b[0;34m)\u001b[0m\u001b[0;34m\u001b[0m\u001b[0;34m\u001b[0m\u001b[0m\n\u001b[0m\u001b[1;32m   1315\u001b[0m \u001b[0;34m\u001b[0m\u001b[0m\n\u001b[1;32m   1316\u001b[0m         if needs_i8_conversion(ax.dtype) or isinstance(\n",
            "\u001b[0;32m/usr/local/lib/python3.7/dist-packages/pandas/core/indexing.py\u001b[0m in \u001b[0;36m_validate_read_indexer\u001b[0;34m(self, key, indexer, axis)\u001b[0m\n\u001b[1;32m   1375\u001b[0m \u001b[0;34m\u001b[0m\u001b[0m\n\u001b[1;32m   1376\u001b[0m             \u001b[0mnot_found\u001b[0m \u001b[0;34m=\u001b[0m \u001b[0mlist\u001b[0m\u001b[0;34m(\u001b[0m\u001b[0mensure_index\u001b[0m\u001b[0;34m(\u001b[0m\u001b[0mkey\u001b[0m\u001b[0;34m)\u001b[0m\u001b[0;34m[\u001b[0m\u001b[0mmissing_mask\u001b[0m\u001b[0;34m.\u001b[0m\u001b[0mnonzero\u001b[0m\u001b[0;34m(\u001b[0m\u001b[0;34m)\u001b[0m\u001b[0;34m[\u001b[0m\u001b[0;36m0\u001b[0m\u001b[0;34m]\u001b[0m\u001b[0;34m]\u001b[0m\u001b[0;34m.\u001b[0m\u001b[0munique\u001b[0m\u001b[0;34m(\u001b[0m\u001b[0;34m)\u001b[0m\u001b[0;34m)\u001b[0m\u001b[0;34m\u001b[0m\u001b[0;34m\u001b[0m\u001b[0m\n\u001b[0;32m-> 1377\u001b[0;31m             \u001b[0;32mraise\u001b[0m \u001b[0mKeyError\u001b[0m\u001b[0;34m(\u001b[0m\u001b[0;34mf\"{not_found} not in index\"\u001b[0m\u001b[0;34m)\u001b[0m\u001b[0;34m\u001b[0m\u001b[0;34m\u001b[0m\u001b[0m\n\u001b[0m\u001b[1;32m   1378\u001b[0m \u001b[0;34m\u001b[0m\u001b[0m\n\u001b[1;32m   1379\u001b[0m \u001b[0;34m\u001b[0m\u001b[0m\n",
            "\u001b[0;31mKeyError\u001b[0m: \"['BPMeds'] not in index\""
          ]
        },
        {
          "output_type": "display_data",
          "data": {
            "text/plain": [
              "<Figure size 1800x2520 with 4 Axes>"
            ],
            "image/png": "[encoded data removed]"
          },
          "metadata": {}
        }
      ]
    },
    {
      "cell_type": "markdown",
      "source": [
        "Due to the imbalanced nature of the dataset it is difficult to make conclusions but based on what is observed but these are the conclusions that can be drawn:\n",
        "\n",
        "*   Slightly more males are suffering from CHD than females\n",
        "*   The percentage of people who have CHD is almost equal between smokers and non smokers\n",
        "\n",
        "\n",
        "*   The percentage of people who have CHD is higher among the diabetic, and those with prevalent hypertesion as compared to those who dont have similar morbidities\n",
        "*   A larger percentage of the people who have CHD are on blood pressure medication\n",
        "\n",
        "\n",
        "\n"
      ],
      "metadata": {
        "id": "RHfNPBD7DFv7"
      }
    },
    {
      "cell_type": "code",
      "source": [
        "positive_cases = data[data['TenYearCHD'] == 1]\n",
        "plt.figure(figsize=(15,6))\n",
        "sns.countplot(x='age',data = positive_cases, hue = 'TenYearCHD', palette='husl')\n",
        "plt.show()"
      ],
      "metadata": {
        "colab": {
          "base_uri": "https://localhost:8080/",
          "height": 394
        },
        "id": "WSdj9XO2C7CP",
        "outputId": "5015f8d8-b819-48f1-ee75-a1c46e372676"
      },
      "execution_count": 66,
      "outputs": [
        {
          "output_type": "display_data",
          "data": {
            "text/plain": [
              "<Figure size 1080x432 with 1 Axes>"
            ],
            "image/png": "[encoded data removed]"
          },
          "metadata": {}
        }
      ]
    },
    {
      "cell_type": "markdown",
      "source": [
        "The people with the highest risk of developing CHD are betwwen the ages of 51 and 63\n",
        "\n",
        "The number of sick people generally increases with age"
      ],
      "metadata": {
        "id": "AgqUD8BEDdls"
      }
    },
    {
      "cell_type": "code",
      "source": [
        "plt.figure(figsize=(15,8))\n",
        "sns.heatmap(data.corr(), annot = True)\n",
        "plt.show()"
      ],
      "metadata": {
        "colab": {
          "base_uri": "https://localhost:8080/",
          "height": 568
        },
        "id": "fp1jqhuzDdJ4",
        "outputId": "311d9e57-05c4-4ed9-a422-4799deaed493"
      },
      "execution_count": 67,
      "outputs": [
        {
          "output_type": "display_data",
          "data": {
            "text/plain": [
              "<Figure size 1080x576 with 2 Axes>"
            ],
            "image/png": "[encoded data removed]"
          },
          "metadata": {}
        }
      ]
    },
    {
      "cell_type": "markdown",
      "source": [
        "There are no features with more than 0.5 correlation with the Ten year risk of developing CHD and this shows that the features a poor predictors. However the features with the highest correlations are age, prevalent hypertension and systolic blood pressure\n",
        "\n",
        "Also there are a couple of features that are highly correlated with one another and it makes no sense to use both of them in building a machine learning model. These incluse: Blood glucose and diabetes (obviously); systolic and diastolic blood pressures; cigarette smoking and the number of cigarretes smoked per day. Therefore we need to carry out feature selection to pick the best features"
      ],
      "metadata": {
        "id": "cjOwGEeRDnV-"
      }
    },
    {
      "cell_type": "markdown",
      "source": [
        "**4. Feature Selection**"
      ],
      "metadata": {
        "id": "RmQvXxOfEkJi"
      }
    },
    {
      "cell_type": "markdown",
      "source": [
        "Here we will use the Boruta algorithm which is a wrapper built around the random forest classification algorithm. It tries to capture all the important, interesting features in a data set with respect to an outcome variable.\n",
        "\n",
        "**Methodology**\n",
        "\n",
        "\n",
        "\n",
        "*   Firstly, it adds randomness to the given data set by creating shuffled copies of all features (which are called shadow features).\n",
        "*   Then, it trains a random forest classifier on the extended data set and applies a feature importance measure (the default is Mean Decrease Accuracy) to evaluate the importance of each feature where higher means more important.\n",
        "\n",
        "*   At every iteration, it checks whether a real feature has a higher importance than the best of its shadow features (i.e. whether the feature has a higher Z-score than the maximum Z-score of its shadow features) and constantly removes features which are deemed highly unimportant.\n",
        "*   Finally, the algorithm stops either when all features get confirmed or rejected or it reaches a specified limit of random forest runs.\n",
        "\n",
        "\n",
        "\n"
      ],
      "metadata": {
        "id": "uwGgqjemErR_"
      }
    },
    {
      "cell_type": "code",
      "source": [
        "!pip install boruta\n",
        "from sklearn.ensemble import RandomForestClassifier\n",
        "from boruta import BorutaPy"
      ],
      "metadata": {
        "colab": {
          "base_uri": "https://localhost:8080/"
        },
        "id": "QQlUlgt_Dbie",
        "outputId": "b39e3c22-9ceb-4ac3-fca8-39c2fccb8405"
      },
      "execution_count": 71,
      "outputs": [
        {
          "output_type": "stream",
          "name": "stdout",
          "text": [
            "Looking in indexes: https://pypi.org/simple, https://us-python.pkg.dev/colab-wheels/public/simple/\n",
            "Collecting boruta\n",
            "  Downloading Boruta-0.3-py3-none-any.whl (56 kB)\n",
            "\u001b[K     |████████████████████████████████| 56 kB 1.9 MB/s \n",
            "\u001b[?25hRequirement already satisfied: scikit-learn>=0.17.1 in /usr/local/lib/python3.7/dist-packages (from boruta) (1.0.2)\n",
            "Requirement already satisfied: numpy>=1.10.4 in /usr/local/lib/python3.7/dist-packages (from boruta) (1.21.6)\n",
            "Requirement already satisfied: scipy>=0.17.0 in /usr/local/lib/python3.7/dist-packages (from boruta) (1.4.1)\n",
            "Requirement already satisfied: joblib>=0.11 in /usr/local/lib/python3.7/dist-packages (from scikit-learn>=0.17.1->boruta) (1.1.0)\n",
            "Requirement already satisfied: threadpoolctl>=2.0.0 in /usr/local/lib/python3.7/dist-packages (from scikit-learn>=0.17.1->boruta) (3.1.0)\n",
            "Installing collected packages: boruta\n",
            "Successfully installed boruta-0.3\n"
          ]
        }
      ]
    },
    {
      "cell_type": "code",
      "source": [
        "#define the features\n",
        "X = data.iloc[:,:-1].values\n",
        "y = data.iloc[:,-1].values\n",
        "\n",
        "forest = RandomForestClassifier(n_estimators=1000, n_jobs=-1, class_weight='balanced')\n",
        "\n",
        "# define Boruta feature selection method\n",
        "feat_selector = BorutaPy(forest, n_estimators='auto', verbose=2)\n",
        " \n",
        "# find all relevant features\n",
        "feat_selector.fit(X, y)"
      ],
      "metadata": {
        "colab": {
          "base_uri": "https://localhost:8080/"
        },
        "id": "0h2dCkHFD8aM",
        "outputId": "ab76a8c9-558a-4049-a274-cbb699ac6f2b"
      },
      "execution_count": 72,
      "outputs": [
        {
          "output_type": "stream",
          "name": "stdout",
          "text": [
            "Iteration: \t1 / 100\n",
            "Confirmed: \t0\n",
            "Tentative: \t16\n",
            "Rejected: \t0\n",
            "Iteration: \t2 / 100\n",
            "Confirmed: \t0\n",
            "Tentative: \t16\n",
            "Rejected: \t0\n",
            "Iteration: \t3 / 100\n",
            "Confirmed: \t0\n",
            "Tentative: \t16\n",
            "Rejected: \t0\n",
            "Iteration: \t4 / 100\n",
            "Confirmed: \t0\n",
            "Tentative: \t16\n",
            "Rejected: \t0\n",
            "Iteration: \t5 / 100\n",
            "Confirmed: \t0\n",
            "Tentative: \t16\n",
            "Rejected: \t0\n",
            "Iteration: \t6 / 100\n",
            "Confirmed: \t0\n",
            "Tentative: \t16\n",
            "Rejected: \t0\n",
            "Iteration: \t7 / 100\n",
            "Confirmed: \t0\n",
            "Tentative: \t16\n",
            "Rejected: \t0\n",
            "Iteration: \t8 / 100\n",
            "Confirmed: \t5\n",
            "Tentative: \t4\n",
            "Rejected: \t7\n",
            "Iteration: \t9 / 100\n",
            "Confirmed: \t5\n",
            "Tentative: \t4\n",
            "Rejected: \t7\n",
            "Iteration: \t10 / 100\n",
            "Confirmed: \t5\n",
            "Tentative: \t4\n",
            "Rejected: \t7\n",
            "Iteration: \t11 / 100\n",
            "Confirmed: \t5\n",
            "Tentative: \t4\n",
            "Rejected: \t7\n",
            "Iteration: \t12 / 100\n",
            "Confirmed: \t5\n",
            "Tentative: \t4\n",
            "Rejected: \t7\n",
            "Iteration: \t13 / 100\n",
            "Confirmed: \t5\n",
            "Tentative: \t4\n",
            "Rejected: \t7\n",
            "Iteration: \t14 / 100\n",
            "Confirmed: \t5\n",
            "Tentative: \t4\n",
            "Rejected: \t7\n",
            "Iteration: \t15 / 100\n",
            "Confirmed: \t5\n",
            "Tentative: \t4\n",
            "Rejected: \t7\n",
            "Iteration: \t16 / 100\n",
            "Confirmed: \t5\n",
            "Tentative: \t4\n",
            "Rejected: \t7\n",
            "Iteration: \t17 / 100\n",
            "Confirmed: \t5\n",
            "Tentative: \t4\n",
            "Rejected: \t7\n",
            "Iteration: \t18 / 100\n",
            "Confirmed: \t5\n",
            "Tentative: \t4\n",
            "Rejected: \t7\n",
            "Iteration: \t19 / 100\n",
            "Confirmed: \t6\n",
            "Tentative: \t3\n",
            "Rejected: \t7\n",
            "Iteration: \t20 / 100\n",
            "Confirmed: \t6\n",
            "Tentative: \t3\n",
            "Rejected: \t7\n",
            "Iteration: \t21 / 100\n",
            "Confirmed: \t6\n",
            "Tentative: \t3\n",
            "Rejected: \t7\n",
            "Iteration: \t22 / 100\n",
            "Confirmed: \t6\n",
            "Tentative: \t3\n",
            "Rejected: \t7\n",
            "Iteration: \t23 / 100\n",
            "Confirmed: \t6\n",
            "Tentative: \t3\n",
            "Rejected: \t7\n",
            "Iteration: \t24 / 100\n",
            "Confirmed: \t6\n",
            "Tentative: \t3\n",
            "Rejected: \t7\n",
            "Iteration: \t25 / 100\n",
            "Confirmed: \t6\n",
            "Tentative: \t3\n",
            "Rejected: \t7\n",
            "Iteration: \t26 / 100\n",
            "Confirmed: \t6\n",
            "Tentative: \t3\n",
            "Rejected: \t7\n",
            "Iteration: \t27 / 100\n",
            "Confirmed: \t6\n",
            "Tentative: \t3\n",
            "Rejected: \t7\n",
            "Iteration: \t28 / 100\n",
            "Confirmed: \t6\n",
            "Tentative: \t3\n",
            "Rejected: \t7\n",
            "Iteration: \t29 / 100\n",
            "Confirmed: \t7\n",
            "Tentative: \t2\n",
            "Rejected: \t7\n",
            "Iteration: \t30 / 100\n",
            "Confirmed: \t7\n",
            "Tentative: \t2\n",
            "Rejected: \t7\n",
            "Iteration: \t31 / 100\n",
            "Confirmed: \t7\n",
            "Tentative: \t2\n",
            "Rejected: \t7\n",
            "Iteration: \t32 / 100\n",
            "Confirmed: \t7\n",
            "Tentative: \t2\n",
            "Rejected: \t7\n",
            "Iteration: \t33 / 100\n",
            "Confirmed: \t7\n",
            "Tentative: \t2\n",
            "Rejected: \t7\n",
            "Iteration: \t34 / 100\n",
            "Confirmed: \t7\n",
            "Tentative: \t2\n",
            "Rejected: \t7\n",
            "Iteration: \t35 / 100\n",
            "Confirmed: \t7\n",
            "Tentative: \t2\n",
            "Rejected: \t7\n",
            "Iteration: \t36 / 100\n",
            "Confirmed: \t7\n",
            "Tentative: \t2\n",
            "Rejected: \t7\n",
            "Iteration: \t37 / 100\n",
            "Confirmed: \t7\n",
            "Tentative: \t2\n",
            "Rejected: \t7\n",
            "Iteration: \t38 / 100\n",
            "Confirmed: \t7\n",
            "Tentative: \t2\n",
            "Rejected: \t7\n",
            "Iteration: \t39 / 100\n",
            "Confirmed: \t7\n",
            "Tentative: \t2\n",
            "Rejected: \t7\n",
            "Iteration: \t40 / 100\n",
            "Confirmed: \t7\n",
            "Tentative: \t2\n",
            "Rejected: \t7\n",
            "Iteration: \t41 / 100\n",
            "Confirmed: \t7\n",
            "Tentative: \t2\n",
            "Rejected: \t7\n",
            "Iteration: \t42 / 100\n",
            "Confirmed: \t7\n",
            "Tentative: \t2\n",
            "Rejected: \t7\n",
            "Iteration: \t43 / 100\n",
            "Confirmed: \t7\n",
            "Tentative: \t2\n",
            "Rejected: \t7\n",
            "Iteration: \t44 / 100\n",
            "Confirmed: \t7\n",
            "Tentative: \t2\n",
            "Rejected: \t7\n",
            "Iteration: \t45 / 100\n",
            "Confirmed: \t7\n",
            "Tentative: \t2\n",
            "Rejected: \t7\n",
            "Iteration: \t46 / 100\n",
            "Confirmed: \t7\n",
            "Tentative: \t2\n",
            "Rejected: \t7\n",
            "Iteration: \t47 / 100\n",
            "Confirmed: \t7\n",
            "Tentative: \t2\n",
            "Rejected: \t7\n",
            "Iteration: \t48 / 100\n",
            "Confirmed: \t7\n",
            "Tentative: \t2\n",
            "Rejected: \t7\n",
            "Iteration: \t49 / 100\n",
            "Confirmed: \t7\n",
            "Tentative: \t2\n",
            "Rejected: \t7\n",
            "Iteration: \t50 / 100\n",
            "Confirmed: \t7\n",
            "Tentative: \t2\n",
            "Rejected: \t7\n",
            "Iteration: \t51 / 100\n",
            "Confirmed: \t7\n",
            "Tentative: \t2\n",
            "Rejected: \t7\n",
            "Iteration: \t52 / 100\n",
            "Confirmed: \t7\n",
            "Tentative: \t2\n",
            "Rejected: \t7\n",
            "Iteration: \t53 / 100\n",
            "Confirmed: \t7\n",
            "Tentative: \t2\n",
            "Rejected: \t7\n",
            "Iteration: \t54 / 100\n",
            "Confirmed: \t7\n",
            "Tentative: \t2\n",
            "Rejected: \t7\n",
            "Iteration: \t55 / 100\n",
            "Confirmed: \t7\n",
            "Tentative: \t2\n",
            "Rejected: \t7\n",
            "Iteration: \t56 / 100\n",
            "Confirmed: \t7\n",
            "Tentative: \t2\n",
            "Rejected: \t7\n",
            "Iteration: \t57 / 100\n",
            "Confirmed: \t7\n",
            "Tentative: \t2\n",
            "Rejected: \t7\n",
            "Iteration: \t58 / 100\n",
            "Confirmed: \t7\n",
            "Tentative: \t2\n",
            "Rejected: \t7\n",
            "Iteration: \t59 / 100\n",
            "Confirmed: \t7\n",
            "Tentative: \t2\n",
            "Rejected: \t7\n",
            "Iteration: \t60 / 100\n",
            "Confirmed: \t7\n",
            "Tentative: \t2\n",
            "Rejected: \t7\n",
            "Iteration: \t61 / 100\n",
            "Confirmed: \t7\n",
            "Tentative: \t2\n",
            "Rejected: \t7\n",
            "Iteration: \t62 / 100\n",
            "Confirmed: \t7\n",
            "Tentative: \t2\n",
            "Rejected: \t7\n",
            "Iteration: \t63 / 100\n",
            "Confirmed: \t7\n",
            "Tentative: \t2\n",
            "Rejected: \t7\n",
            "Iteration: \t64 / 100\n",
            "Confirmed: \t7\n",
            "Tentative: \t2\n",
            "Rejected: \t7\n",
            "Iteration: \t65 / 100\n",
            "Confirmed: \t7\n",
            "Tentative: \t2\n",
            "Rejected: \t7\n",
            "Iteration: \t66 / 100\n",
            "Confirmed: \t7\n",
            "Tentative: \t2\n",
            "Rejected: \t7\n",
            "Iteration: \t67 / 100\n",
            "Confirmed: \t7\n",
            "Tentative: \t2\n",
            "Rejected: \t7\n",
            "Iteration: \t68 / 100\n",
            "Confirmed: \t7\n",
            "Tentative: \t2\n",
            "Rejected: \t7\n",
            "Iteration: \t69 / 100\n",
            "Confirmed: \t7\n",
            "Tentative: \t2\n",
            "Rejected: \t7\n",
            "Iteration: \t70 / 100\n",
            "Confirmed: \t7\n",
            "Tentative: \t2\n",
            "Rejected: \t7\n",
            "Iteration: \t71 / 100\n",
            "Confirmed: \t7\n",
            "Tentative: \t2\n",
            "Rejected: \t7\n",
            "Iteration: \t72 / 100\n",
            "Confirmed: \t7\n",
            "Tentative: \t2\n",
            "Rejected: \t7\n",
            "Iteration: \t73 / 100\n",
            "Confirmed: \t7\n",
            "Tentative: \t2\n",
            "Rejected: \t7\n",
            "Iteration: \t74 / 100\n",
            "Confirmed: \t7\n",
            "Tentative: \t2\n",
            "Rejected: \t7\n",
            "Iteration: \t75 / 100\n",
            "Confirmed: \t7\n",
            "Tentative: \t2\n",
            "Rejected: \t7\n",
            "Iteration: \t76 / 100\n",
            "Confirmed: \t7\n",
            "Tentative: \t2\n",
            "Rejected: \t7\n",
            "Iteration: \t77 / 100\n",
            "Confirmed: \t7\n",
            "Tentative: \t2\n",
            "Rejected: \t7\n",
            "Iteration: \t78 / 100\n",
            "Confirmed: \t7\n",
            "Tentative: \t2\n",
            "Rejected: \t7\n",
            "Iteration: \t79 / 100\n",
            "Confirmed: \t7\n",
            "Tentative: \t2\n",
            "Rejected: \t7\n",
            "Iteration: \t80 / 100\n",
            "Confirmed: \t7\n",
            "Tentative: \t2\n",
            "Rejected: \t7\n",
            "Iteration: \t81 / 100\n",
            "Confirmed: \t7\n",
            "Tentative: \t2\n",
            "Rejected: \t7\n",
            "Iteration: \t82 / 100\n",
            "Confirmed: \t7\n",
            "Tentative: \t2\n",
            "Rejected: \t7\n",
            "Iteration: \t83 / 100\n",
            "Confirmed: \t7\n",
            "Tentative: \t2\n",
            "Rejected: \t7\n",
            "Iteration: \t84 / 100\n",
            "Confirmed: \t7\n",
            "Tentative: \t2\n",
            "Rejected: \t7\n",
            "Iteration: \t85 / 100\n",
            "Confirmed: \t7\n",
            "Tentative: \t2\n",
            "Rejected: \t7\n",
            "Iteration: \t86 / 100\n",
            "Confirmed: \t7\n",
            "Tentative: \t2\n",
            "Rejected: \t7\n",
            "Iteration: \t87 / 100\n",
            "Confirmed: \t7\n",
            "Tentative: \t2\n",
            "Rejected: \t7\n",
            "Iteration: \t88 / 100\n",
            "Confirmed: \t7\n",
            "Tentative: \t2\n",
            "Rejected: \t7\n",
            "Iteration: \t89 / 100\n",
            "Confirmed: \t7\n",
            "Tentative: \t2\n",
            "Rejected: \t7\n",
            "Iteration: \t90 / 100\n",
            "Confirmed: \t7\n",
            "Tentative: \t2\n",
            "Rejected: \t7\n",
            "Iteration: \t91 / 100\n",
            "Confirmed: \t7\n",
            "Tentative: \t2\n",
            "Rejected: \t7\n",
            "Iteration: \t92 / 100\n",
            "Confirmed: \t7\n",
            "Tentative: \t2\n",
            "Rejected: \t7\n",
            "Iteration: \t93 / 100\n",
            "Confirmed: \t7\n",
            "Tentative: \t2\n",
            "Rejected: \t7\n",
            "Iteration: \t94 / 100\n",
            "Confirmed: \t7\n",
            "Tentative: \t2\n",
            "Rejected: \t7\n",
            "Iteration: \t95 / 100\n",
            "Confirmed: \t8\n",
            "Tentative: \t1\n",
            "Rejected: \t7\n",
            "Iteration: \t96 / 100\n",
            "Confirmed: \t8\n",
            "Tentative: \t1\n",
            "Rejected: \t7\n",
            "Iteration: \t97 / 100\n",
            "Confirmed: \t8\n",
            "Tentative: \t1\n",
            "Rejected: \t7\n",
            "Iteration: \t98 / 100\n",
            "Confirmed: \t8\n",
            "Tentative: \t1\n",
            "Rejected: \t7\n",
            "Iteration: \t99 / 100\n",
            "Confirmed: \t8\n",
            "Tentative: \t1\n",
            "Rejected: \t7\n",
            "\n",
            "\n",
            "BorutaPy finished running.\n",
            "\n",
            "Iteration: \t100 / 100\n",
            "Confirmed: \t8\n",
            "Tentative: \t0\n",
            "Rejected: \t7\n"
          ]
        },
        {
          "output_type": "execute_result",
          "data": {
            "text/plain": [
              "BorutaPy(estimator=RandomForestClassifier(class_weight='balanced',\n",
              "                                          n_estimators=42, n_jobs=-1,\n",
              "                                          random_state=RandomState(MT19937) at 0x7FD97F5EDD10),\n",
              "         n_estimators='auto',\n",
              "         random_state=RandomState(MT19937) at 0x7FD97F5EDD10, verbose=2)"
            ]
          },
          "metadata": {},
          "execution_count": 72
        }
      ]
    },
    {
      "cell_type": "code",
      "source": [
        "# show the most important features\n",
        "most_important = data.columns[:-1][feat_selector.support_].tolist()\n",
        "most_important"
      ],
      "metadata": {
        "colab": {
          "base_uri": "https://localhost:8080/"
        },
        "id": "6x0Sm7f_EBD5",
        "outputId": "9efdd794-d7da-4a16-ebec-8e63d713acb8"
      },
      "execution_count": 73,
      "outputs": [
        {
          "output_type": "execute_result",
          "data": {
            "text/plain": [
              "['age', 'cigsPerDay', 'totChol', 'sysBP', 'diaBP', 'BMI', 'heartRate', 'male']"
            ]
          },
          "metadata": {},
          "execution_count": 73
        }
      ]
    },
    {
      "cell_type": "markdown",
      "source": [
        "We see that age and systolic blood pressures are selected as the most important features for predicting the Ten year risk of developing CHD.\n",
        "\n",
        "However we will use the six most important features to build our models"
      ],
      "metadata": {
        "id": "7Phpwjh5Qmia"
      }
    },
    {
      "cell_type": "code",
      "source": [
        "# select the top 6 features\n",
        "top_features = data.columns[:-1][feat_selector.ranking_ <=6].tolist()\n",
        "top_features"
      ],
      "metadata": {
        "colab": {
          "base_uri": "https://localhost:8080/"
        },
        "id": "-T3u1qHoEB9f",
        "outputId": "1bd665c4-27a5-4efe-87b5-f76dbc54b69f"
      },
      "execution_count": 75,
      "outputs": [
        {
          "output_type": "execute_result",
          "data": {
            "text/plain": [
              "['id',\n",
              " 'age',\n",
              " 'education',\n",
              " 'cigsPerDay',\n",
              " 'prevalentHyp',\n",
              " 'totChol',\n",
              " 'sysBP',\n",
              " 'diaBP',\n",
              " 'BMI',\n",
              " 'heartRate',\n",
              " 'glucose',\n",
              " 'TenYearCHD',\n",
              " 'male']"
            ]
          },
          "metadata": {},
          "execution_count": 75
        }
      ]
    },
    {
      "cell_type": "code",
      "source": [
        "import statsmodels.api as sm"
      ],
      "metadata": {
        "id": "HH-UkachEHKW"
      },
      "execution_count": 126,
      "outputs": []
    },
    {
      "cell_type": "code",
      "source": [
        "X_top = data[top_features]\n",
        "y = data['TenYearCHD']"
      ],
      "metadata": {
        "colab": {
          "base_uri": "https://localhost:8080/",
          "height": 328
        },
        "id": "haDnVPrKEITd",
        "outputId": "a94c72bb-eb56-4d26-98bc-09712ffccf8d"
      },
      "execution_count": 127,
      "outputs": [
        {
          "output_type": "error",
          "ename": "KeyError",
          "evalue": "ignored",
          "traceback": [
            "\u001b[0;31m---------------------------------------------------------------------------\u001b[0m",
            "\u001b[0;31mKeyError\u001b[0m                                  Traceback (most recent call last)",
            "\u001b[0;32m<ipython-input-127-a7f909859476>\u001b[0m in \u001b[0;36m<module>\u001b[0;34m()\u001b[0m\n\u001b[0;32m----> 1\u001b[0;31m \u001b[0mX_top\u001b[0m \u001b[0;34m=\u001b[0m \u001b[0mdata\u001b[0m\u001b[0;34m[\u001b[0m\u001b[0mtop_features\u001b[0m\u001b[0;34m]\u001b[0m\u001b[0;34m\u001b[0m\u001b[0;34m\u001b[0m\u001b[0m\n\u001b[0m\u001b[1;32m      2\u001b[0m \u001b[0my\u001b[0m \u001b[0;34m=\u001b[0m \u001b[0mdata\u001b[0m\u001b[0;34m[\u001b[0m\u001b[0;34m'TenYearCHD'\u001b[0m\u001b[0;34m]\u001b[0m\u001b[0;34m\u001b[0m\u001b[0;34m\u001b[0m\u001b[0m\n",
            "\u001b[0;32m/usr/local/lib/python3.7/dist-packages/pandas/core/frame.py\u001b[0m in \u001b[0;36m__getitem__\u001b[0;34m(self, key)\u001b[0m\n\u001b[1;32m   3462\u001b[0m             \u001b[0;32mif\u001b[0m \u001b[0mis_iterator\u001b[0m\u001b[0;34m(\u001b[0m\u001b[0mkey\u001b[0m\u001b[0;34m)\u001b[0m\u001b[0;34m:\u001b[0m\u001b[0;34m\u001b[0m\u001b[0;34m\u001b[0m\u001b[0m\n\u001b[1;32m   3463\u001b[0m                 \u001b[0mkey\u001b[0m \u001b[0;34m=\u001b[0m \u001b[0mlist\u001b[0m\u001b[0;34m(\u001b[0m\u001b[0mkey\u001b[0m\u001b[0;34m)\u001b[0m\u001b[0;34m\u001b[0m\u001b[0;34m\u001b[0m\u001b[0m\n\u001b[0;32m-> 3464\u001b[0;31m             \u001b[0mindexer\u001b[0m \u001b[0;34m=\u001b[0m \u001b[0mself\u001b[0m\u001b[0;34m.\u001b[0m\u001b[0mloc\u001b[0m\u001b[0;34m.\u001b[0m\u001b[0m_get_listlike_indexer\u001b[0m\u001b[0;34m(\u001b[0m\u001b[0mkey\u001b[0m\u001b[0;34m,\u001b[0m \u001b[0maxis\u001b[0m\u001b[0;34m=\u001b[0m\u001b[0;36m1\u001b[0m\u001b[0;34m)\u001b[0m\u001b[0;34m[\u001b[0m\u001b[0;36m1\u001b[0m\u001b[0;34m]\u001b[0m\u001b[0;34m\u001b[0m\u001b[0;34m\u001b[0m\u001b[0m\n\u001b[0m\u001b[1;32m   3465\u001b[0m \u001b[0;34m\u001b[0m\u001b[0m\n\u001b[1;32m   3466\u001b[0m         \u001b[0;31m# take() does not accept boolean indexers\u001b[0m\u001b[0;34m\u001b[0m\u001b[0;34m\u001b[0m\u001b[0;34m\u001b[0m\u001b[0m\n",
            "\u001b[0;32m/usr/local/lib/python3.7/dist-packages/pandas/core/indexing.py\u001b[0m in \u001b[0;36m_get_listlike_indexer\u001b[0;34m(self, key, axis)\u001b[0m\n\u001b[1;32m   1312\u001b[0m             \u001b[0mkeyarr\u001b[0m\u001b[0;34m,\u001b[0m \u001b[0mindexer\u001b[0m\u001b[0;34m,\u001b[0m \u001b[0mnew_indexer\u001b[0m \u001b[0;34m=\u001b[0m \u001b[0max\u001b[0m\u001b[0;34m.\u001b[0m\u001b[0m_reindex_non_unique\u001b[0m\u001b[0;34m(\u001b[0m\u001b[0mkeyarr\u001b[0m\u001b[0;34m)\u001b[0m\u001b[0;34m\u001b[0m\u001b[0;34m\u001b[0m\u001b[0m\n\u001b[1;32m   1313\u001b[0m \u001b[0;34m\u001b[0m\u001b[0m\n\u001b[0;32m-> 1314\u001b[0;31m         \u001b[0mself\u001b[0m\u001b[0;34m.\u001b[0m\u001b[0m_validate_read_indexer\u001b[0m\u001b[0;34m(\u001b[0m\u001b[0mkeyarr\u001b[0m\u001b[0;34m,\u001b[0m \u001b[0mindexer\u001b[0m\u001b[0;34m,\u001b[0m \u001b[0maxis\u001b[0m\u001b[0;34m)\u001b[0m\u001b[0;34m\u001b[0m\u001b[0;34m\u001b[0m\u001b[0m\n\u001b[0m\u001b[1;32m   1315\u001b[0m \u001b[0;34m\u001b[0m\u001b[0m\n\u001b[1;32m   1316\u001b[0m         if needs_i8_conversion(ax.dtype) or isinstance(\n",
            "\u001b[0;32m/usr/local/lib/python3.7/dist-packages/pandas/core/indexing.py\u001b[0m in \u001b[0;36m_validate_read_indexer\u001b[0;34m(self, key, indexer, axis)\u001b[0m\n\u001b[1;32m   1375\u001b[0m \u001b[0;34m\u001b[0m\u001b[0m\n\u001b[1;32m   1376\u001b[0m             \u001b[0mnot_found\u001b[0m \u001b[0;34m=\u001b[0m \u001b[0mlist\u001b[0m\u001b[0;34m(\u001b[0m\u001b[0mensure_index\u001b[0m\u001b[0;34m(\u001b[0m\u001b[0mkey\u001b[0m\u001b[0;34m)\u001b[0m\u001b[0;34m[\u001b[0m\u001b[0mmissing_mask\u001b[0m\u001b[0;34m.\u001b[0m\u001b[0mnonzero\u001b[0m\u001b[0;34m(\u001b[0m\u001b[0;34m)\u001b[0m\u001b[0;34m[\u001b[0m\u001b[0;36m0\u001b[0m\u001b[0;34m]\u001b[0m\u001b[0;34m]\u001b[0m\u001b[0;34m.\u001b[0m\u001b[0munique\u001b[0m\u001b[0;34m(\u001b[0m\u001b[0;34m)\u001b[0m\u001b[0;34m)\u001b[0m\u001b[0;34m\u001b[0m\u001b[0;34m\u001b[0m\u001b[0m\n\u001b[0;32m-> 1377\u001b[0;31m             \u001b[0;32mraise\u001b[0m \u001b[0mKeyError\u001b[0m\u001b[0;34m(\u001b[0m\u001b[0;34mf\"{not_found} not in index\"\u001b[0m\u001b[0;34m)\u001b[0m\u001b[0;34m\u001b[0m\u001b[0;34m\u001b[0m\u001b[0m\n\u001b[0m\u001b[1;32m   1378\u001b[0m \u001b[0;34m\u001b[0m\u001b[0m\n\u001b[1;32m   1379\u001b[0m \u001b[0;34m\u001b[0m\u001b[0m\n",
            "\u001b[0;31mKeyError\u001b[0m: \"['id'] not in index\""
          ]
        }
      ]
    },
    {
      "cell_type": "code",
      "source": [
        "res = sm.Logit(y,X_top).fit()\n",
        "res.summary()"
      ],
      "metadata": {
        "id": "JEzFsFuUEKGy"
      },
      "execution_count": null,
      "outputs": []
    },
    {
      "cell_type": "code",
      "source": [
        "params = res.params\n",
        "conf = res.conf_int()\n",
        "conf['Odds Ratio'] = params\n",
        "conf.columns = ['5%', '95%', 'Odds Ratio']\n",
        "print(np.exp(conf))"
      ],
      "metadata": {
        "id": "0boo8NvYELuY"
      },
      "execution_count": null,
      "outputs": []
    },
    {
      "cell_type": "code",
      "source": [
        "sns.pairplot(data, hue = 'TenYearCHD', markers=[\"o\", \"s\"], vars = top_features, palette = sns.color_palette(\"bright\", 10))"
      ],
      "metadata": {
        "id": "i9O0jWzGERMG"
      },
      "execution_count": null,
      "outputs": []
    },
    {
      "cell_type": "code",
      "source": [
        "from imblearn.over_sampling import SMOTE\n",
        "from imblearn.under_sampling import RandomUnderSampler\n",
        "from imblearn.pipeline import Pipeline\n",
        "from collections import Counter"
      ],
      "metadata": {
        "id": "YPh5RAZLESBg"
      },
      "execution_count": null,
      "outputs": []
    },
    {
      "cell_type": "code",
      "source": [
        "X = data[top_features]\n",
        "y = data.iloc[:,-1]"
      ],
      "metadata": {
        "id": "eoMXuqR1WX3E"
      },
      "execution_count": null,
      "outputs": []
    },
    {
      "cell_type": "code",
      "source": [
        "# the numbers before SMOTE\n",
        "num_before = dict(Counter(y))\n",
        "\n",
        "#perform SMOTE\n",
        "\n",
        "# define pipeline\n",
        "over = SMOTE(sampling_strategy=0.8)\n",
        "under = RandomUnderSampler(sampling_strategy=0.8)\n",
        "steps = [('o', over), ('u', under)]\n",
        "pipeline = Pipeline(steps=steps)\n",
        "\n",
        "# transform the dataset\n",
        "X_smote, y_smote = pipeline.fit_resample(X, y)\n",
        "\n",
        "\n",
        "#the numbers after SMOTE\n",
        "num_after =dict(Counter(y_smote))"
      ],
      "metadata": {
        "id": "HPB1N_TGWaEu"
      },
      "execution_count": null,
      "outputs": []
    },
    {
      "cell_type": "code",
      "source": [
        "print(num_before, num_after)"
      ],
      "metadata": {
        "id": "Dy00JkaYWdAE"
      },
      "execution_count": null,
      "outputs": []
    },
    {
      "cell_type": "code",
      "source": [
        "labels = [\"Negative Cases\",\"Positive Cases\"]\n",
        "plt.figure(figsize=(15,6))\n",
        "plt.subplot(1,2,1)\n",
        "sns.barplot(labels, list(num_before.values()))\n",
        "plt.title(\"Numbers Before Balancing\")\n",
        "plt.subplot(1,2,2)\n",
        "sns.barplot(labels, list(num_after.values()))\n",
        "plt.title(\"Numbers After Balancing\")\n",
        "plt.show()"
      ],
      "metadata": {
        "id": "Ht1sSiNzWfCW"
      },
      "execution_count": null,
      "outputs": []
    },
    {
      "cell_type": "markdown",
      "source": [
        "After applying SMOTE, the new dataset is much more balanced: the new ratio between negative and positive cases is 1:1.2 up from 1:5.57"
      ],
      "metadata": {
        "id": "2uiETCwoWiVl"
      }
    },
    {
      "cell_type": "markdown",
      "source": [
        "**5.2 Splitting data to Training and Testing set**"
      ],
      "metadata": {
        "id": "bMeiXNOzWlyR"
      }
    },
    {
      "cell_type": "code",
      "source": [
        "# new dataset\n",
        "new_data = pd.concat([pd.DataFrame(X_smote), pd.DataFrame(y_smote)], axis=1)\n",
        "new_data.columns = ['age', 'totChol', 'sysBP', 'diaBP', 'BMI', 'heartRate', 'glucose','TenYearCHD']\n",
        "new_data.head()"
      ],
      "metadata": {
        "id": "FFtEQe8JWhN9"
      },
      "execution_count": null,
      "outputs": []
    },
    {
      "cell_type": "code",
      "source": [
        "X_new = new_data[top_features]\n",
        "y_new= new_data.iloc[:,-1]\n",
        "X_new.head()"
      ],
      "metadata": {
        "id": "gqk5SIo5Wu1X"
      },
      "execution_count": null,
      "outputs": []
    },
    {
      "cell_type": "code",
      "source": [
        "# split the dataset\n",
        "from sklearn.model_selection import train_test_split\n",
        "X_train,X_test,y_train,y_test = train_test_split(X_new,y_new,test_size=.2,random_state=42)"
      ],
      "metadata": {
        "id": "v7IGr7QeWxz2"
      },
      "execution_count": null,
      "outputs": []
    },
    {
      "cell_type": "markdown",
      "source": [
        "**5.3 Feature Scaling**\n",
        "\n",
        "Feature scaling is a method used to normalize the range of independent variables or features of data. It generally speeds up the running time of different algorithms"
      ],
      "metadata": {
        "id": "d4aBMue_WzUv"
      }
    },
    {
      "cell_type": "code",
      "source": [
        "from sklearn.preprocessing import StandardScaler"
      ],
      "metadata": {
        "id": "l4VBPizRWyhe"
      },
      "execution_count": null,
      "outputs": []
    },
    {
      "cell_type": "code",
      "source": [
        "scaler = StandardScaler()\n",
        "\n",
        "X_train_scaled = scaler.fit_transform(X_train)\n",
        "X_train = pd.DataFrame(X_train_scaled)\n",
        "\n",
        "X_test_scaled = scaler.transform(X_test)\n",
        "X_test = pd.DataFrame(X_test_scaled)"
      ],
      "metadata": {
        "id": "tUwmBfFRXfh8"
      },
      "execution_count": null,
      "outputs": []
    },
    {
      "cell_type": "markdown",
      "source": [
        "**5.4 Models**\n",
        "\n",
        "The four algorithms that will be used are:\n",
        "\n",
        "*   k-Nearest Neighbours\n",
        "*   Decision Trees\n",
        "*   Support Vector Machine\n",
        "*   Logistic Regression\n",
        "\n",
        "\n",
        "\n",
        "\n",
        "\n",
        "\n",
        "\n",
        "\n",
        "\n",
        "\n"
      ],
      "metadata": {
        "id": "_tG_MDenXkUu"
      }
    },
    {
      "cell_type": "code",
      "source": [
        "from sklearn.linear_model import LogisticRegression\n",
        "from sklearn.model_selection import GridSearchCV\n",
        "from sklearn.metrics import confusion_matrix\n",
        "from sklearn.metrics import accuracy_score\n",
        "from sklearn.metrics import f1_score\n",
        "from sklearn.metrics import classification_report\n",
        "from sklearn.metrics import recall_score,precision_score,classification_report,roc_auc_score,roc_curve"
      ],
      "metadata": {
        "id": "OhYYQ9vsXiIn"
      },
      "execution_count": null,
      "outputs": []
    },
    {
      "cell_type": "code",
      "source": [
        "# search for optimun parameters using gridsearch\n",
        "params = {'penalty':['l1','l2'],\n",
        "         'C':[0.01,0.1,1,10,100],\n",
        "         'class_weight':['balanced',None]}\n",
        "logistic_clf = GridSearchCV(LogisticRegression(),param_grid=params,cv=10)"
      ],
      "metadata": {
        "id": "pomOppC1YUOQ"
      },
      "execution_count": null,
      "outputs": []
    },
    {
      "cell_type": "code",
      "source": [
        "#train the classifier\n",
        "logistic_clf.fit(X_train,y_train)\n",
        "\n",
        "logistic_clf.best_params_"
      ],
      "metadata": {
        "id": "7FX5OX5KYWzx"
      },
      "execution_count": null,
      "outputs": []
    },
    {
      "cell_type": "code",
      "source": [
        "#make predictions\n",
        "logistic_predict = logistic_clf.predict(X_test)"
      ],
      "metadata": {
        "id": "WKm2FM-uYY3n"
      },
      "execution_count": null,
      "outputs": []
    },
    {
      "cell_type": "code",
      "source": [
        "log_accuracy = accuracy_score(y_test,logistic_predict)\n",
        "print(f\"Using logistic regression we get an accuracy of {round(log_accuracy*100,2)}%\")"
      ],
      "metadata": {
        "id": "F7JuVGZkYbtq"
      },
      "execution_count": null,
      "outputs": []
    },
    {
      "cell_type": "code",
      "source": [
        "cm=confusion_matrix(y_test,logistic_predict)\n",
        "conf_matrix=pd.DataFrame(data=cm,columns=['Predicted:0','Predicted:1'],index=['Actual:0','Actual:1'])\n",
        "plt.figure(figsize = (8,5))\n",
        "sns.heatmap(conf_matrix, annot=True,fmt='d',cmap=\"YlGnBu\")"
      ],
      "metadata": {
        "id": "fA9e9ZqWYd3-"
      },
      "execution_count": null,
      "outputs": []
    },
    {
      "cell_type": "code",
      "source": [
        "print(classification_report(y_test,logistic_predict))"
      ],
      "metadata": {
        "id": "NTy_eObPYhMC"
      },
      "execution_count": null,
      "outputs": []
    },
    {
      "cell_type": "code",
      "source": [
        "logistic_f1 = f1_score(y_test, logistic_predict)\n",
        "print(f'The f1 score for logistic regression is {round(logistic_f1*100,2)}%')"
      ],
      "metadata": {
        "id": "YGDAqbOWYktu"
      },
      "execution_count": null,
      "outputs": []
    },
    {
      "cell_type": "code",
      "source": [
        "# ROC curve and AUC \n",
        "probs = logistic_clf.predict_proba(X_test)\n",
        "# keep probabilities for the positive outcome only\n",
        "probs = probs[:, 1]\n",
        "# calculate AUC\n",
        "log_auc = roc_auc_score(y_test, probs)\n",
        "\n",
        "# calculate roc curve\n",
        "fpr, tpr, thresholds = roc_curve(y_test, probs)\n",
        "# plot curve\n",
        "sns.set_style('whitegrid')\n",
        "plt.figure(figsize=(10,6))\n",
        "plt.plot([0, 1], [0, 1], linestyle='--')\n",
        "plt.plot(fpr, tpr, marker='.')\n",
        "plt.ylabel('True positive rate')\n",
        "plt.xlabel('False positive rate')\n",
        "plt.title(f\"AUC = {round(log_auc,3)}\")\n",
        "plt.show()"
      ],
      "metadata": {
        "id": "Oo1n2gncYmbp"
      },
      "execution_count": null,
      "outputs": []
    },
    {
      "cell_type": "code",
      "source": [
        "from sklearn.neighbors import KNeighborsClassifier"
      ],
      "metadata": {
        "id": "cusBIpkoYpf8"
      },
      "execution_count": null,
      "outputs": []
    },
    {
      "cell_type": "code",
      "source": [
        "# search for optimun parameters using gridsearch\n",
        "params= {'n_neighbors': np.arange(1, 10)}\n",
        "grid_search = GridSearchCV(estimator = KNeighborsClassifier(), param_grid = params, \n",
        "                           scoring = 'accuracy', cv = 10, n_jobs = -1)\n",
        "knn_clf = GridSearchCV(KNeighborsClassifier(),params,cv=3, n_jobs=-1)"
      ],
      "metadata": {
        "id": "emm5OWTmYt7g"
      },
      "execution_count": null,
      "outputs": []
    },
    {
      "cell_type": "code",
      "source": [
        "# train the model\n",
        "knn_clf.fit(X_train,y_train)\n",
        "knn_clf.best_params_"
      ],
      "metadata": {
        "id": "qObKvuqdYuwW"
      },
      "execution_count": null,
      "outputs": []
    },
    {
      "cell_type": "code",
      "source": [
        "# predictions\n",
        "knn_predict = knn_clf.predict(X_test)"
      ],
      "metadata": {
        "id": "CjGzM4ZwYwpc"
      },
      "execution_count": null,
      "outputs": []
    },
    {
      "cell_type": "code",
      "source": [
        "#accuracy\n",
        "knn_accuracy = accuracy_score(y_test,knn_predict)\n",
        "print(f\"Using k-nearest neighbours we get an accuracy of {round(knn_accuracy*100,2)}%\")"
      ],
      "metadata": {
        "id": "geA08aQRYyvt"
      },
      "execution_count": null,
      "outputs": []
    },
    {
      "cell_type": "code",
      "source": [
        "cm=confusion_matrix(y_test,knn_predict)\n",
        "conf_matrix=pd.DataFrame(data=cm,columns=['Predicted:0','Predicted:1'],index=['Actual:0','Actual:1'])\n",
        "plt.figure(figsize = (8,5))\n",
        "sns.heatmap(conf_matrix, annot=True,fmt='d',cmap=\"YlGnBu\")"
      ],
      "metadata": {
        "id": "9OEz6dI2Y0qn"
      },
      "execution_count": null,
      "outputs": []
    },
    {
      "cell_type": "code",
      "source": [
        "print(classification_report(y_test,knn_predict))"
      ],
      "metadata": {
        "id": "ZKL9aLswY2wC"
      },
      "execution_count": null,
      "outputs": []
    },
    {
      "cell_type": "code",
      "source": [
        "knn_f1 = f1_score(y_test, knn_predict)\n",
        "print(f'The f1 score for K nearest neignbours is {round(knn_f1*100,2)}%')"
      ],
      "metadata": {
        "id": "BSnoCtwpY45Q"
      },
      "execution_count": null,
      "outputs": []
    },
    {
      "cell_type": "code",
      "source": [
        "The f1 score for K nearest neignbours is 82.8%\n",
        "# ROC curve and AUC \n",
        "probs = knn_clf.predict_proba(X_test)\n",
        "# keep probabilities for the positive outcome only\n",
        "probs = probs[:, 1]\n",
        "# calculate AUC\n",
        "knn_auc = roc_auc_score(y_test, probs)\n",
        "\n",
        "# calculate roc curve\n",
        "fpr, tpr, thresholds = roc_curve(y_test, probs)\n",
        "# plot curve\n",
        "sns.set_style('whitegrid')\n",
        "plt.figure(figsize=(10,6))\n",
        "plt.plot([0, 1], [0, 1], linestyle='--')\n",
        "plt.plot(fpr, tpr, marker='.')\n",
        "plt.ylabel('True positive rate')\n",
        "plt.xlabel('False positive rate')\n",
        "plt.title(f\"AUC = {round(knn_auc,3)}\")\n",
        "plt.show()"
      ],
      "metadata": {
        "id": "eUvHz_oAY60f"
      },
      "execution_count": null,
      "outputs": []
    },
    {
      "cell_type": "markdown",
      "source": [
        "**5.4.3 Decision Trees**\n",
        "\n",
        "A decision tree is a tree-like graph with nodes representing the place where we pick an attribute and ask a question; edges represent the answers the to the question; and the leaves represent the actual output or class label. They are used in non-linear decision making with simple linear decision surface.\n",
        "\n",
        "Decision trees classify the examples by sorting them down the tree from the root to some leaf node, with the leaf node providing the classification to the example. Each node in the tree acts as a test case for some attribute, and each edge descending from that node corresponds to one of the possible answers to the test case. This process is recursive in nature and is repeated for every subtree rooted at the new nodes.\n"
      ],
      "metadata": {
        "id": "VnFtS0vyY-m-"
      }
    },
    {
      "cell_type": "code",
      "source": [
        "from sklearn.tree import DecisionTreeClassifier\n",
        "dtree= DecisionTreeClassifier(random_state=7)"
      ],
      "metadata": {
        "id": "cFcTKUnyY9aA"
      },
      "execution_count": null,
      "outputs": []
    },
    {
      "cell_type": "code",
      "source": [
        "# grid search for optimum parameters\n",
        "params = {'max_features': ['auto', 'sqrt', 'log2'],\n",
        "          'min_samples_split': [2,3,4,5,6,7,8,9,10,11,12,13,14,15], \n",
        "          'min_samples_leaf':[1,2,3,4,5,6,7,8,9,10,11]}\n",
        "tree_clf = GridSearchCV(dtree, param_grid=params, n_jobs=-1)"
      ],
      "metadata": {
        "id": "iBqmOXwHZv-B"
      },
      "execution_count": null,
      "outputs": []
    },
    {
      "cell_type": "code",
      "source": [
        "# train the model\n",
        "tree_clf.fit(X_train,y_train)\n",
        "tree_clf.best_params_"
      ],
      "metadata": {
        "id": "kASqu2pnZxlc"
      },
      "execution_count": null,
      "outputs": []
    },
    {
      "cell_type": "code",
      "source": [
        "# predictions\n",
        "tree_predict = tree_clf.predict(X_test)"
      ],
      "metadata": {
        "id": "_1psTImdZ1t2"
      },
      "execution_count": null,
      "outputs": []
    },
    {
      "cell_type": "code",
      "source": [
        "#accuracy\n",
        "tree_accuracy = accuracy_score(y_test,tree_predict)\n",
        "print(f\"Using Decision Trees we get an accuracy of {round(tree_accuracy*100,2)}%\")"
      ],
      "metadata": {
        "id": "b499ui4yZ3qu"
      },
      "execution_count": null,
      "outputs": []
    },
    {
      "cell_type": "code",
      "source": [
        "cm=confusion_matrix(y_test,tree_predict)\n",
        "conf_matrix=pd.DataFrame(data=cm,columns=['Predicted:0','Predicted:1'],index=['Actual:0','Actual:1'])\n",
        "plt.figure(figsize = (8,5))\n",
        "sns.heatmap(conf_matrix, annot=True,fmt='d',cmap=\"YlGnBu\")"
      ],
      "metadata": {
        "id": "vqLTzZOBZ5xl"
      },
      "execution_count": null,
      "outputs": []
    },
    {
      "cell_type": "code",
      "source": [
        "print(classification_report(y_test,tree_predict))"
      ],
      "metadata": {
        "id": "BNypQlI-Z9od"
      },
      "execution_count": null,
      "outputs": []
    },
    {
      "cell_type": "code",
      "source": [
        "tree_f1 = f1_score(y_test, tree_predict)\n",
        "print(f'The f1 score Descision trees is {round(tree_f1*100,2)}%')"
      ],
      "metadata": {
        "id": "qmau14V9Z_l9"
      },
      "execution_count": null,
      "outputs": []
    },
    {
      "cell_type": "code",
      "source": [
        "# ROC curve and AUC \n",
        "probs = tree_clf.predict_proba(X_test)\n",
        "# keep probabilities for the positive outcome only\n",
        "probs = probs[:, 1]\n",
        "# calculate AUC\n",
        "tree_auc = roc_auc_score(y_test, probs)\n",
        "\n",
        "# calculate roc curve\n",
        "fpr, tpr, thresholds = roc_curve(y_test, probs)\n",
        "# plot curve\n",
        "sns.set_style('whitegrid')\n",
        "plt.figure(figsize=(10,6))\n",
        "plt.plot([0, 1], [0, 1], linestyle='--')\n",
        "plt.plot(fpr, tpr, marker='.')\n",
        "plt.ylabel('True positive rate')\n",
        "plt.xlabel('False positive rate')\n",
        "plt.title(f\"AUC = {round(tree_auc,3)}\")\n",
        "plt.show()"
      ],
      "metadata": {
        "id": "bsJa-LknaCSr"
      },
      "execution_count": null,
      "outputs": []
    },
    {
      "cell_type": "markdown",
      "source": [
        "**5.4.4 Support Vector Machine**\n",
        "\n",
        "A Support Vector Machine (SVM) is a discriminative classifier formally defined by a separating hyperplane. In other words, given labeled training data (supervised learning), the algorithm outputs an optimal hyperplane which categorizes new examples. In two dimentional space this hyperplane is a line dividing a plane in two parts where in each class lay in either side.\n"
      ],
      "metadata": {
        "id": "GuGz2Y5EaEE2"
      }
    },
    {
      "cell_type": "code",
      "source": [
        "from sklearn.svm import SVC"
      ],
      "metadata": {
        "id": "L4t73bZ1aMQ6"
      },
      "execution_count": null,
      "outputs": []
    },
    {
      "cell_type": "code",
      "source": [
        "#grid search for optimum parameters\n",
        "Cs = [0.001, 0.01, 0.1, 1, 10]\n",
        "gammas = [0.001, 0.01, 0.1, 1]\n",
        "param_grid = {'C': Cs, 'gamma' : gammas}\n",
        "svm_clf = GridSearchCV(SVC(kernel='rbf', probability=True), param_grid, cv=10)"
      ],
      "metadata": {
        "id": "dmuX3OTsaPEf"
      },
      "execution_count": null,
      "outputs": []
    },
    {
      "cell_type": "code",
      "source": [
        "# train the model\n",
        "svm_clf.fit(X_train,y_train)\n",
        "svm_clf.best_params_ "
      ],
      "metadata": {
        "id": "XK4ARYpyaRR4"
      },
      "execution_count": null,
      "outputs": []
    },
    {
      "cell_type": "code",
      "source": [
        "# predictions\n",
        "svm_predict = svm_clf.predict(X_test)"
      ],
      "metadata": {
        "id": "nK2D_T13aUo4"
      },
      "execution_count": null,
      "outputs": []
    },
    {
      "cell_type": "code",
      "source": [
        "#accuracy\n",
        "svm_accuracy = accuracy_score(y_test,svm_predict)\n",
        "print(f\"Using SVM we get an accuracy of {round(svm_accuracy*100,2)}%\")"
      ],
      "metadata": {
        "id": "m_G1d8a2aaNj"
      },
      "execution_count": null,
      "outputs": []
    },
    {
      "cell_type": "code",
      "source": [
        "cm=confusion_matrix(y_test,svm_predict)\n",
        "conf_matrix=pd.DataFrame(data=cm,columns=['Predicted:0','Predicted:1'],index=['Actual:0','Actual:1'])\n",
        "plt.figure(figsize = (8,5))\n",
        "sns.heatmap(conf_matrix, annot=True,fmt='d',cmap=\"YlGnBu\")"
      ],
      "metadata": {
        "id": "Gl4_rcJAadpB"
      },
      "execution_count": null,
      "outputs": []
    },
    {
      "cell_type": "code",
      "source": [
        "print(classification_report(y_test,svm_predict))"
      ],
      "metadata": {
        "id": "tw9JIC2RasXc"
      },
      "execution_count": null,
      "outputs": []
    },
    {
      "cell_type": "code",
      "source": [
        "svm_f1 = f1_score(y_test, svm_predict)\n",
        "print(f'The f1 score for SVM is {round(svm_f1*100,2)}%')"
      ],
      "metadata": {
        "id": "NfBPGnNBawXP"
      },
      "execution_count": null,
      "outputs": []
    },
    {
      "cell_type": "code",
      "source": [
        "The f1 score for SVM is 84.59%\n",
        "# ROC curve and AUC \n",
        "probs = svm_clf.predict_proba(X_test)\n",
        "# keep probabilities for the positive outcome only\n",
        "probs = probs[:, 1]\n",
        "# calculate AUC\n",
        "svm_auc = roc_auc_score(y_test, probs)\n",
        "\n",
        "# calculate roc curve\n",
        "fpr, tpr, thresholds = roc_curve(y_test, probs)\n",
        "# plot curve\n",
        "sns.set_style('whitegrid')\n",
        "plt.figure(figsize=(10,6))\n",
        "plt.plot([0, 1], [0, 1], linestyle='--')\n",
        "plt.plot(fpr, tpr, marker='.')\n",
        "plt.ylabel('True positive rate')\n",
        "plt.xlabel('False positive rate')\n",
        "plt.title(f\"AUC = {round(svm_auc,3)}\")\n",
        "plt.show()"
      ],
      "metadata": {
        "id": "WeUclsA_ayDQ"
      },
      "execution_count": null,
      "outputs": []
    },
    {
      "cell_type": "code",
      "source": [
        "comparison = pd.DataFrame({\n",
        "    \"Logistic regression\":{'Accuracy':log_accuracy, 'AUC':log_auc, 'F1 score':logistic_f1},\n",
        "    \"K-nearest neighbours\":{'Accuracy':knn_accuracy, 'AUC':knn_auc, 'F1 score':knn_f1},\n",
        "    \"Decision trees\":{'Accuracy':tree_accuracy, 'AUC':tree_auc, 'F1 score':tree_f1},\n",
        "    \"Support vector machine\":{'Accuracy':svm_accuracy, 'AUC':svm_auc, 'F1 score':svm_f1}\n",
        "}).T"
      ],
      "metadata": {
        "id": "Z2i_tUHIa0zX"
      },
      "execution_count": null,
      "outputs": []
    },
    {
      "cell_type": "code",
      "source": [
        "comparison"
      ],
      "metadata": {
        "id": "ajwhLJOYa4Ph"
      },
      "execution_count": null,
      "outputs": []
    },
    {
      "cell_type": "code",
      "source": [
        "fig = plt.gcf()\n",
        "fig.set_size_inches(15, 15)\n",
        "titles = ['AUC','Accuracy','F1 score']\n",
        "for title,label in enumerate(comparison.columns):\n",
        "    plt.subplot(2,2,title+1)\n",
        "    sns.barplot(x=comparison.index, y = comparison[label], data=comparison)\n",
        "    plt.xticks(fontsize=9)\n",
        "    plt.title(titles[title])\n",
        "plt.show()"
      ],
      "metadata": {
        "id": "_hGWmzMva6Gn"
      },
      "execution_count": null,
      "outputs": []
    },
    {
      "cell_type": "markdown",
      "source": [
        "**5.5 Cross validation score of the best model**\n",
        "\n",
        "\n",
        "Cross-validation is primarily used in applied machine learning to estimate the skill of a machine learning model on unseen data. That is, to use a limited sample in order to estimate how the model is expected to perform in general when used to make predictions on data not used during the training of the model.\n",
        "\n",
        "It is a popular method because it is simple to understand and because it generally results in a less biased or less optimistic estimate of the model skill than other methods, such as a simple train/test split.\n",
        "\n",
        "The general procedure is as follows:\n",
        "\n",
        "*  Shuffle the dataset randomly.\n",
        "*  Split the dataset into k groups\n",
        "*  For each unique group:\n",
        "      *    Take the group as a hold out or test data set\n",
        "      *   Take the remaining groups as a training data set\n",
        "      *   Fit a model on the training set and evaluate it on the test set\n",
        "      *   Retain the evaluation score and discard the model\n",
        "\n",
        "*  Summarize the skill of the model using the sample of model evaluation scores\n",
        "\n",
        "\n",
        "\n",
        "\n",
        "\n",
        "\n",
        "\n",
        "\n",
        "\n",
        "\n",
        "\n",
        "\n",
        "  "
      ],
      "metadata": {
        "id": "lZnp8DxUa-ga"
      }
    },
    {
      "cell_type": "code",
      "source": [
        " from sklearn.model_selection import cross_val_score"
      ],
      "metadata": {
        "id": "HUdb8xw2a8qZ"
      },
      "execution_count": null,
      "outputs": []
    },
    {
      "cell_type": "code",
      "source": [
        "cv_results = cross_val_score(svm_clf, X, y, cv=5) \n",
        "\n",
        "print (f\"Cross-validated scores {cv_results}\")\n",
        "print(f\"The Cross Validation accuracy is: {round(cv_results.mean() * 100,2)}%\")"
      ],
      "metadata": {
        "id": "qNZHtf6_bs4Q"
      },
      "execution_count": null,
      "outputs": []
    },
    {
      "cell_type": "markdown",
      "source": [
        "**6. Conclusion**\n",
        "\n",
        "\n",
        "\n",
        "*   The most important features in predicting the ten year risk of developing CHD were age and systolic blood pressure\n",
        "*   The Support vector machine with the radial kernel was the best performing model in terms of accuracy and the F1 score. Its high AUC shows that it has a high true positive rate.\n",
        "*   Balancing the dataset by using the SMOTE technique helped in improving the models' sensitivity, this is when compared to the performance metrics of other models on different notebooks on the same dataset\n",
        "*   With more data(especially that of the minority class) better models can be built\n",
        "\n",
        "\n",
        "\n"
      ],
      "metadata": {
        "id": "hImWEUebbv6m"
      }
    },
    {
      "cell_type": "markdown",
      "source": [
        "**Closing statements**\n",
        "\n",
        "\n",
        "\n",
        "*   If you have found this notebook to be useful please upvote it\n",
        "*   If you have any queries or additions please leave them in the comments\n",
        "*   Feel free to use any part of this notebook in your personal work\n",
        "\n",
        "\n",
        "\n"
      ],
      "metadata": {
        "id": "1OzjX8zpb-74"
      }
    },
    {
      "cell_type": "code",
      "source": [
        ""
      ],
      "metadata": {
        "id": "HYnMqbalbu1j"
      },
      "execution_count": null,
      "outputs": []
    }
  ]
}